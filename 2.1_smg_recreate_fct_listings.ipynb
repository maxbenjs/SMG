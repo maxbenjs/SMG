{
 "cells": [
  {
   "cell_type": "code",
   "execution_count": 1,
   "id": "2f6db2cb",
   "metadata": {},
   "outputs": [],
   "source": [
    "import os\n",
    "import numpy as np\n",
    "import pandas as pd\n",
    "import pandas_gbq as pd_gbq\n",
    "from google.cloud import bigquery\n",
    "from google.cloud.exceptions import NotFound\n",
    "from pandasql import sqldf\n",
    "import datetime"
   ]
  },
  {
   "cell_type": "code",
   "execution_count": 2,
   "id": "fba0b5e3",
   "metadata": {},
   "outputs": [],
   "source": [
    "pysqldf = lambda q: sqldf(q, globals())\n",
    "\n",
    "df = pd.read_csv('GDT – BI Dev Challenge/challenge_A_task_02_dataset/challenge_A_task_02_star_schema_dataset/fct_listings.csv')\n",
    "\n",
    "query = \"\"\"\n",
    "with fct_listings_cleaned as (\n",
    "  select distinct\n",
    "    df.listing_id\n",
    "  , df.price\n",
    "  , df.valid_from\n",
    "  , case when df.valid_to is null and df2.valid_to is not null then df2.valid_to else df.valid_to end as valid_to\n",
    "  , df.listing_date_key\n",
    "  , df.platform_id\n",
    "  , df.product_type_id\n",
    "  , case when df.valid_to is null and df2.valid_to is not null then df2.status_id else df.status_id end as status_id\n",
    "  , df.user_id\n",
    "  from df\n",
    "  left join df df2 on df.listing_id = df2.listing_id and df.listing_date_key = df2.listing_date_key and df.status_id != df2.status_id\n",
    ")\n",
    "select * from fct_listings_cleaned\n",
    "\"\"\"\n",
    "\n",
    "df = pysqldf(query)\n",
    "df = df.fillna(value=np.nan)\n",
    "df.to_csv('GDT – BI Dev Challenge/challenge_A_task_02_dataset/challenge_A_task_02_star_schema_dataset/fct_listings_clean.csv', index=False)\n"
   ]
  },
  {
   "cell_type": "code",
   "execution_count": null,
   "id": "6a4d4dd7",
   "metadata": {},
   "outputs": [],
   "source": []
  }
 ],
 "metadata": {
  "kernelspec": {
   "display_name": "venv",
   "language": "python",
   "name": "venv"
  },
  "language_info": {
   "codemirror_mode": {
    "name": "ipython",
    "version": 3
   },
   "file_extension": ".py",
   "mimetype": "text/x-python",
   "name": "python",
   "nbconvert_exporter": "python",
   "pygments_lexer": "ipython3",
   "version": "3.8.6"
  }
 },
 "nbformat": 4,
 "nbformat_minor": 5
}
