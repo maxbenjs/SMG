{
 "cells": [
  {
   "cell_type": "code",
   "execution_count": 1,
   "id": "4cc2f177",
   "metadata": {
    "collapsed": true
   },
   "outputs": [
    {
     "name": "stdout",
     "output_type": "stream",
     "text": [
      "Collecting bigquery\n",
      "  Downloading bigquery-0.0.35.tar.gz (8.1 kB)\n",
      "  Preparing metadata (setup.py) ... \u001b[?25ldone\n",
      "\u001b[?25hCollecting dbstream>=0.1.19\n",
      "  Downloading dbstream-0.1.21.tar.gz (5.9 kB)\n",
      "  Preparing metadata (setup.py) ... \u001b[?25ldone\n",
      "\u001b[?25hCollecting google-cloud-bigquery>=2.4.0\n",
      "  Downloading google_cloud_bigquery-3.6.0-py2.py3-none-any.whl (215 kB)\n",
      "\u001b[2K     \u001b[90m━━━━━━━━━━━━━━━━━━━━━━━━━━━━━━━━━━━━━━━\u001b[0m \u001b[32m215.1/215.1 kB\u001b[0m \u001b[31m7.8 MB/s\u001b[0m eta \u001b[36m0:00:00\u001b[0m\n",
      "\u001b[?25hCollecting googleauthentication>=0.0.12\n",
      "  Downloading googleauthentication-0.0.17.tar.gz (2.9 kB)\n",
      "  Preparing metadata (setup.py) ... \u001b[?25ldone\n",
      "\u001b[?25hCollecting google-cloud-bigquery-storage>=2.1.0\n",
      "  Downloading google_cloud_bigquery_storage-2.19.0-py2.py3-none-any.whl (190 kB)\n",
      "\u001b[2K     \u001b[90m━━━━━━━━━━━━━━━━━━━━━━━━━━━━━━━━━━━━━━\u001b[0m \u001b[32m190.2/190.2 kB\u001b[0m \u001b[31m15.5 MB/s\u001b[0m eta \u001b[36m0:00:00\u001b[0m\n",
      "\u001b[?25hCollecting pandas==1.3.4\n",
      "  Downloading pandas-1.3.4-cp38-cp38-macosx_10_9_x86_64.whl (11.4 MB)\n",
      "\u001b[2K     \u001b[90m━━━━━━━━━━━━━━━━━━━━━━━━━━━━━━━━━━━━━━━━\u001b[0m \u001b[32m11.4/11.4 MB\u001b[0m \u001b[31m2.8 MB/s\u001b[0m eta \u001b[36m0:00:00\u001b[0m00:01\u001b[0m00:01\u001b[0m\n",
      "\u001b[?25hRequirement already satisfied: pyarrow>=2.0.0 in /Users/maxschlafli/venv/lib/python3.8/site-packages (from bigquery) (5.0.0)\n",
      "Requirement already satisfied: python-dateutil>=2.7.3 in /Users/maxschlafli/venv/lib/python3.8/site-packages (from pandas==1.3.4->bigquery) (2.8.2)\n",
      "Requirement already satisfied: numpy>=1.17.3 in /Users/maxschlafli/venv/lib/python3.8/site-packages (from pandas==1.3.4->bigquery) (1.21.2)\n",
      "Requirement already satisfied: pytz>=2017.3 in /Users/maxschlafli/venv/lib/python3.8/site-packages (from pandas==1.3.4->bigquery) (2022.7.1)\n",
      "Collecting dacktool>=0.0.7\n",
      "  Downloading dacktool-0.0.7.tar.gz (3.1 kB)\n",
      "  Preparing metadata (setup.py) ... \u001b[?25ldone\n",
      "\u001b[?25hRequirement already satisfied: requests>=2.22.0 in /Users/maxschlafli/venv/lib/python3.8/site-packages (from dbstream>=0.1.19->bigquery) (2.26.0)\n",
      "Collecting google-api-core>=2.3.2\n",
      "  Downloading google_api_core-2.11.0-py3-none-any.whl (120 kB)\n",
      "\u001b[2K     \u001b[90m━━━━━━━━━━━━━━━━━━━━━━━━━━━━━━━━━━━━━━━\u001b[0m \u001b[32m120.3/120.3 kB\u001b[0m \u001b[31m9.7 MB/s\u001b[0m eta \u001b[36m0:00:00\u001b[0m\n",
      "\u001b[?25hCollecting grpcio<2.0dev,>=1.47.0\n",
      "  Downloading grpcio-1.51.3-cp38-cp38-macosx_10_10_universal2.whl (8.2 MB)\n",
      "\u001b[2K     \u001b[90m━━━━━━━━━━━━━━━━━━━━━━━━━━━━━━━━━━━━━━━━\u001b[0m \u001b[32m8.2/8.2 MB\u001b[0m \u001b[31m12.3 MB/s\u001b[0m eta \u001b[36m0:00:00\u001b[0m00:01\u001b[0m00:01\u001b[0m\n",
      "\u001b[?25hCollecting google-resumable-media<3.0dev,>=0.6.0\n",
      "  Downloading google_resumable_media-2.4.1-py2.py3-none-any.whl (77 kB)\n",
      "\u001b[2K     \u001b[90m━━━━━━━━━━━━━━━━━━━━━━━━━━━━━━━━━━━━━━━━\u001b[0m \u001b[32m77.7/77.7 kB\u001b[0m \u001b[31m6.9 MB/s\u001b[0m eta \u001b[36m0:00:00\u001b[0m\n",
      "\u001b[?25hCollecting google-cloud-core<3.0.0dev,>=1.6.0\n",
      "  Downloading google_cloud_core-2.3.2-py2.py3-none-any.whl (29 kB)\n",
      "Collecting protobuf!=3.20.0,!=3.20.1,!=4.21.0,!=4.21.1,!=4.21.2,!=4.21.3,!=4.21.4,!=4.21.5,<5.0.0dev,>=3.19.5\n",
      "  Downloading protobuf-4.22.0-cp37-abi3-macosx_10_9_universal2.whl (397 kB)\n",
      "\u001b[2K     \u001b[90m━━━━━━━━━━━━━━━━━━━━━━━━━━━━━━━━━━━━━━\u001b[0m \u001b[32m397.2/397.2 kB\u001b[0m \u001b[31m13.9 MB/s\u001b[0m eta \u001b[36m0:00:00\u001b[0m\n",
      "\u001b[?25hRequirement already satisfied: packaging>=20.0.0 in /Users/maxschlafli/venv/lib/python3.8/site-packages (from google-cloud-bigquery>=2.4.0->bigquery) (21.3)\n",
      "Collecting proto-plus<2.0.0dev,>=1.15.0\n",
      "  Downloading proto_plus-1.22.2-py3-none-any.whl (47 kB)\n",
      "\u001b[2K     \u001b[90m━━━━━━━━━━━━━━━━━━━━━━━━━━━━━━━━━━━━━━━━\u001b[0m \u001b[32m47.9/47.9 kB\u001b[0m \u001b[31m3.8 MB/s\u001b[0m eta \u001b[36m0:00:00\u001b[0m\n",
      "\u001b[?25hCollecting google-api-python-client==1.7.11\n",
      "  Downloading google-api-python-client-1.7.11.tar.gz (142 kB)\n",
      "\u001b[2K     \u001b[90m━━━━━━━━━━━━━━━━━━━━━━━━━━━━━━━━━━━━━━\u001b[0m \u001b[32m142.8/142.8 kB\u001b[0m \u001b[31m12.0 MB/s\u001b[0m eta \u001b[36m0:00:00\u001b[0m\n",
      "\u001b[?25h  Preparing metadata (setup.py) ... \u001b[?25ldone\n",
      "\u001b[?25hCollecting google-auth>=1.23.0\n",
      "  Downloading google_auth-2.16.1-py2.py3-none-any.whl (177 kB)\n",
      "\u001b[2K     \u001b[90m━━━━━━━━━━━━━━━━━━━━━━━━━━━━━━━━━━━━━━━\u001b[0m \u001b[32m177.2/177.2 kB\u001b[0m \u001b[31m8.2 MB/s\u001b[0m eta \u001b[36m0:00:00\u001b[0m\n",
      "\u001b[?25hCollecting google-auth-httplib2==0.0.3\n",
      "  Downloading google_auth_httplib2-0.0.3-py2.py3-none-any.whl (6.3 kB)\n",
      "Collecting google-auth-oauthlib>=0.4.0\n",
      "  Downloading google_auth_oauthlib-1.0.0-py2.py3-none-any.whl (18 kB)\n",
      "Requirement already satisfied: cryptography>=2.7 in /Users/maxschlafli/venv/lib/python3.8/site-packages (from googleauthentication>=0.0.12->bigquery) (3.4.8)\n",
      "Collecting google-cloud-secret-manager==2.7.2\n",
      "  Downloading google_cloud_secret_manager-2.7.2-py2.py3-none-any.whl (94 kB)\n",
      "\u001b[2K     \u001b[90m━━━━━━━━━━━━━━━━━━━━━━━━━━━━━━━━━━━━━━━━\u001b[0m \u001b[32m94.6/94.6 kB\u001b[0m \u001b[31m7.8 MB/s\u001b[0m eta \u001b[36m0:00:00\u001b[0m\n",
      "\u001b[?25hCollecting httplib2<1dev,>=0.9.2\n",
      "  Downloading httplib2-0.21.0-py3-none-any.whl (96 kB)\n",
      "\u001b[2K     \u001b[90m━━━━━━━━━━━━━━━━━━━━━━━━━━━━━━━━━━━━━━━━\u001b[0m \u001b[32m96.8/96.8 kB\u001b[0m \u001b[31m8.8 MB/s\u001b[0m eta \u001b[36m0:00:00\u001b[0m\n",
      "\u001b[?25hRequirement already satisfied: six<2dev,>=1.6.1 in /Users/maxschlafli/venv/lib/python3.8/site-packages (from google-api-python-client==1.7.11->googleauthentication>=0.0.12->bigquery) (1.16.0)\n",
      "Collecting uritemplate<4dev,>=3.0.0\n",
      "  Downloading uritemplate-3.0.1-py2.py3-none-any.whl (15 kB)\n",
      "Collecting libcst>=0.2.5\n",
      "  Downloading libcst-0.4.9-cp38-cp38-macosx_10_9_x86_64.whl (1.8 MB)\n",
      "\u001b[2K     \u001b[90m━━━━━━━━━━━━━━━━━━━━━━━━━━━━━━━━━━━━━━━━\u001b[0m \u001b[32m1.8/1.8 MB\u001b[0m \u001b[31m13.1 MB/s\u001b[0m eta \u001b[36m0:00:00\u001b[0m00:01\u001b[0m00:01\u001b[0m\n",
      "\u001b[?25hCollecting grpc-google-iam-v1<0.13dev,>=0.12.3\n",
      "  Downloading grpc_google_iam_v1-0.12.6-py2.py3-none-any.whl (26 kB)\n",
      "Requirement already satisfied: cffi>=1.12 in /Users/maxschlafli/venv/lib/python3.8/site-packages (from cryptography>=2.7->googleauthentication>=0.0.12->bigquery) (1.14.6)\n",
      "Collecting googleapis-common-protos<2.0dev,>=1.56.2\n",
      "  Downloading googleapis_common_protos-1.58.0-py2.py3-none-any.whl (223 kB)\n",
      "\u001b[2K     \u001b[90m━━━━━━━━━━━━━━━━━━━━━━━━━━━━━━━━━━━━━━\u001b[0m \u001b[32m223.0/223.0 kB\u001b[0m \u001b[31m13.9 MB/s\u001b[0m eta \u001b[36m0:00:00\u001b[0m\n",
      "\u001b[?25hCollecting grpcio-status<2.0dev,>=1.33.2\n",
      "  Downloading grpcio_status-1.51.3-py3-none-any.whl (5.1 kB)\n",
      "Requirement already satisfied: rsa<5,>=3.1.4 in /Users/maxschlafli/venv/lib/python3.8/site-packages (from google-auth>=1.23.0->googleauthentication>=0.0.12->bigquery) (4.7.2)\n",
      "Collecting pyasn1-modules>=0.2.1\n",
      "  Downloading pyasn1_modules-0.2.8-py2.py3-none-any.whl (155 kB)\n",
      "\u001b[2K     \u001b[90m━━━━━━━━━━━━━━━━━━━━━━━━━━━━━━━━━━━━━━━\u001b[0m \u001b[32m155.3/155.3 kB\u001b[0m \u001b[31m7.9 MB/s\u001b[0m eta \u001b[36m0:00:00\u001b[0m\n",
      "\u001b[?25hCollecting cachetools<6.0,>=2.0.0\n",
      "  Downloading cachetools-5.3.0-py3-none-any.whl (9.3 kB)\n",
      "Requirement already satisfied: requests-oauthlib>=0.7.0 in /Users/maxschlafli/venv/lib/python3.8/site-packages (from google-auth-oauthlib>=0.4.0->googleauthentication>=0.0.12->bigquery) (1.3.0)\n",
      "Collecting google-crc32c<2.0dev,>=1.0\n",
      "  Downloading google_crc32c-1.5.0-cp38-cp38-macosx_10_9_x86_64.whl (30 kB)\n",
      "Requirement already satisfied: pyparsing!=3.0.5,>=2.0.2 in /Users/maxschlafli/venv/lib/python3.8/site-packages (from packaging>=20.0.0->google-cloud-bigquery>=2.4.0->bigquery) (2.4.7)\n",
      "Requirement already satisfied: certifi>=2017.4.17 in /Users/maxschlafli/venv/lib/python3.8/site-packages (from requests>=2.22.0->dbstream>=0.1.19->bigquery) (2021.5.30)\n",
      "Requirement already satisfied: charset-normalizer~=2.0.0 in /Users/maxschlafli/venv/lib/python3.8/site-packages (from requests>=2.22.0->dbstream>=0.1.19->bigquery) (2.0.6)\n",
      "Requirement already satisfied: urllib3<1.27,>=1.21.1 in /Users/maxschlafli/venv/lib/python3.8/site-packages (from requests>=2.22.0->dbstream>=0.1.19->bigquery) (1.26.7)\n",
      "Requirement already satisfied: idna<4,>=2.5 in /Users/maxschlafli/venv/lib/python3.8/site-packages (from requests>=2.22.0->dbstream>=0.1.19->bigquery) (3.2)\n",
      "Requirement already satisfied: pycparser in /Users/maxschlafli/venv/lib/python3.8/site-packages (from cffi>=1.12->cryptography>=2.7->googleauthentication>=0.0.12->bigquery) (2.20)\n",
      "Collecting typing-inspect>=0.4.0\n",
      "  Downloading typing_inspect-0.8.0-py3-none-any.whl (8.7 kB)\n",
      "Requirement already satisfied: typing-extensions>=3.7.4.2 in /Users/maxschlafli/venv/lib/python3.8/site-packages (from libcst>=0.2.5->google-cloud-secret-manager==2.7.2->googleauthentication>=0.0.12->bigquery) (4.4.0)\n",
      "Requirement already satisfied: pyyaml>=5.2 in /Users/maxschlafli/venv/lib/python3.8/site-packages (from libcst>=0.2.5->google-cloud-secret-manager==2.7.2->googleauthentication>=0.0.12->bigquery) (5.4.1)\n",
      "Requirement already satisfied: pyasn1<0.5.0,>=0.4.6 in /Users/maxschlafli/venv/lib/python3.8/site-packages (from pyasn1-modules>=0.2.1->google-auth>=1.23.0->googleauthentication>=0.0.12->bigquery) (0.4.8)\n"
     ]
    },
    {
     "name": "stdout",
     "output_type": "stream",
     "text": [
      "Requirement already satisfied: oauthlib>=3.0.0 in /Users/maxschlafli/venv/lib/python3.8/site-packages (from requests-oauthlib>=0.7.0->google-auth-oauthlib>=0.4.0->googleauthentication>=0.0.12->bigquery) (3.1.1)\n",
      "Collecting mypy-extensions>=0.3.0\n",
      "  Downloading mypy_extensions-1.0.0-py3-none-any.whl (4.7 kB)\n",
      "Installing collected packages: uritemplate, pyasn1-modules, protobuf, mypy-extensions, httplib2, grpcio, google-crc32c, dacktool, cachetools, typing-inspect, proto-plus, pandas, googleapis-common-protos, google-resumable-media, google-auth, libcst, grpcio-status, google-auth-oauthlib, google-auth-httplib2, google-api-core, grpc-google-iam-v1, google-cloud-core, google-api-python-client, dbstream, google-cloud-secret-manager, google-cloud-bigquery-storage, google-cloud-bigquery, googleauthentication, bigquery\n",
      "\u001b[33m  DEPRECATION: dacktool is being installed using the legacy 'setup.py install' method, because it does not have a 'pyproject.toml' and the 'wheel' package is not installed. pip 23.1 will enforce this behaviour change. A possible replacement is to enable the '--use-pep517' option. Discussion can be found at https://github.com/pypa/pip/issues/8559\u001b[0m\u001b[33m\n",
      "\u001b[0m  Running setup.py install for dacktool ... \u001b[?25ldone\n",
      "\u001b[?25h  Attempting uninstall: pandas\n",
      "    Found existing installation: pandas 1.3.3\n",
      "    Uninstalling pandas-1.3.3:\n",
      "      Successfully uninstalled pandas-1.3.3\n",
      "\u001b[33m  DEPRECATION: google-api-python-client is being installed using the legacy 'setup.py install' method, because it does not have a 'pyproject.toml' and the 'wheel' package is not installed. pip 23.1 will enforce this behaviour change. A possible replacement is to enable the '--use-pep517' option. Discussion can be found at https://github.com/pypa/pip/issues/8559\u001b[0m\u001b[33m\n",
      "\u001b[0m  Running setup.py install for google-api-python-client ... \u001b[?25ldone\n",
      "\u001b[33m  DEPRECATION: dbstream is being installed using the legacy 'setup.py install' method, because it does not have a 'pyproject.toml' and the 'wheel' package is not installed. pip 23.1 will enforce this behaviour change. A possible replacement is to enable the '--use-pep517' option. Discussion can be found at https://github.com/pypa/pip/issues/8559\u001b[0m\u001b[33m\n",
      "\u001b[0m\u001b[?25h  Running setup.py install for dbstream ... \u001b[?25ldone\n",
      "\u001b[33m  DEPRECATION: googleauthentication is being installed using the legacy 'setup.py install' method, because it does not have a 'pyproject.toml' and the 'wheel' package is not installed. pip 23.1 will enforce this behaviour change. A possible replacement is to enable the '--use-pep517' option. Discussion can be found at https://github.com/pypa/pip/issues/8559\u001b[0m\u001b[33m\n",
      "\u001b[0m\u001b[?25h  Running setup.py install for googleauthentication ... \u001b[?25ldone\n",
      "\u001b[33m  DEPRECATION: bigquery is being installed using the legacy 'setup.py install' method, because it does not have a 'pyproject.toml' and the 'wheel' package is not installed. pip 23.1 will enforce this behaviour change. A possible replacement is to enable the '--use-pep517' option. Discussion can be found at https://github.com/pypa/pip/issues/8559\u001b[0m\u001b[33m\n",
      "\u001b[0m\u001b[?25h  Running setup.py install for bigquery ... \u001b[?25ldone\n",
      "\u001b[?25hSuccessfully installed bigquery-0.0.35 cachetools-5.3.0 dacktool-0.0.7 dbstream-0.1.21 google-api-core-2.11.0 google-api-python-client-1.7.11 google-auth-2.16.1 google-auth-httplib2-0.0.3 google-auth-oauthlib-1.0.0 google-cloud-bigquery-3.6.0 google-cloud-bigquery-storage-2.19.0 google-cloud-core-2.3.2 google-cloud-secret-manager-2.7.2 google-crc32c-1.5.0 google-resumable-media-2.4.1 googleapis-common-protos-1.58.0 googleauthentication-0.0.17 grpc-google-iam-v1-0.12.6 grpcio-1.51.3 grpcio-status-1.51.3 httplib2-0.21.0 libcst-0.4.9 mypy-extensions-1.0.0 pandas-1.3.4 proto-plus-1.22.2 protobuf-4.22.0 pyasn1-modules-0.2.8 typing-inspect-0.8.0 uritemplate-3.0.1\n",
      "\n",
      "\u001b[1m[\u001b[0m\u001b[34;49mnotice\u001b[0m\u001b[1;39;49m]\u001b[0m\u001b[39;49m A new release of pip is available: \u001b[0m\u001b[31;49m23.0\u001b[0m\u001b[39;49m -> \u001b[0m\u001b[32;49m23.0.1\u001b[0m\n",
      "\u001b[1m[\u001b[0m\u001b[34;49mnotice\u001b[0m\u001b[1;39;49m]\u001b[0m\u001b[39;49m To update, run: \u001b[0m\u001b[32;49mpython -m pip install --upgrade pip\u001b[0m\n",
      "Note: you may need to restart the kernel to use updated packages.\n"
     ]
    }
   ],
   "source": [
    "pip install bigquery"
   ]
  },
  {
   "cell_type": "code",
   "execution_count": 24,
   "id": "c6898788",
   "metadata": {
    "collapsed": true
   },
   "outputs": [
    {
     "name": "stdout",
     "output_type": "stream",
     "text": [
      "Collecting pandas_gbq\n",
      "  Downloading pandas_gbq-0.19.1-py2.py3-none-any.whl (25 kB)\n",
      "Requirement already satisfied: google-auth>=2.13.0 in /Users/maxschlafli/venv/lib/python3.8/site-packages (from pandas_gbq) (2.16.1)\n",
      "Requirement already satisfied: google-cloud-bigquery!=2.4.*,<4.0.0dev,>=3.3.5 in /Users/maxschlafli/venv/lib/python3.8/site-packages (from pandas_gbq) (3.6.0)\n",
      "Requirement already satisfied: setuptools in /Users/maxschlafli/venv/lib/python3.8/site-packages (from pandas_gbq) (58.1.0)\n",
      "Collecting pydata-google-auth>=1.5.0\n",
      "  Downloading pydata_google_auth-1.7.0-py2.py3-none-any.whl (14 kB)\n",
      "Requirement already satisfied: google-cloud-bigquery-storage<3.0.0dev,>=2.16.2 in /Users/maxschlafli/venv/lib/python3.8/site-packages (from pandas_gbq) (2.19.0)\n",
      "Requirement already satisfied: numpy>=1.16.6 in /Users/maxschlafli/venv/lib/python3.8/site-packages (from pandas_gbq) (1.21.2)\n",
      "Requirement already satisfied: google-api-core<3.0.0dev,>=2.10.2 in /Users/maxschlafli/venv/lib/python3.8/site-packages (from pandas_gbq) (2.11.0)\n",
      "Collecting db-dtypes<2.0.0,>=1.0.4\n",
      "  Downloading db_dtypes-1.0.5-py2.py3-none-any.whl (14 kB)\n",
      "Requirement already satisfied: pandas>=1.1.4 in /Users/maxschlafli/venv/lib/python3.8/site-packages (from pandas_gbq) (1.3.4)\n",
      "Requirement already satisfied: pyarrow>=3.0.0 in /Users/maxschlafli/venv/lib/python3.8/site-packages (from pandas_gbq) (5.0.0)\n",
      "Requirement already satisfied: google-auth-oauthlib>=0.7.0 in /Users/maxschlafli/venv/lib/python3.8/site-packages (from pandas_gbq) (1.0.0)\n",
      "Requirement already satisfied: packaging>=17.0 in /Users/maxschlafli/venv/lib/python3.8/site-packages (from db-dtypes<2.0.0,>=1.0.4->pandas_gbq) (21.3)\n",
      "Requirement already satisfied: protobuf!=3.20.0,!=3.20.1,!=4.21.0,!=4.21.1,!=4.21.2,!=4.21.3,!=4.21.4,!=4.21.5,<5.0.0dev,>=3.19.5 in /Users/maxschlafli/venv/lib/python3.8/site-packages (from google-api-core<3.0.0dev,>=2.10.2->pandas_gbq) (4.22.0)\n",
      "Requirement already satisfied: requests<3.0.0dev,>=2.18.0 in /Users/maxschlafli/venv/lib/python3.8/site-packages (from google-api-core<3.0.0dev,>=2.10.2->pandas_gbq) (2.26.0)\n",
      "Requirement already satisfied: googleapis-common-protos<2.0dev,>=1.56.2 in /Users/maxschlafli/venv/lib/python3.8/site-packages (from google-api-core<3.0.0dev,>=2.10.2->pandas_gbq) (1.58.0)\n",
      "Requirement already satisfied: six>=1.9.0 in /Users/maxschlafli/venv/lib/python3.8/site-packages (from google-auth>=2.13.0->pandas_gbq) (1.16.0)\n",
      "Requirement already satisfied: rsa<5,>=3.1.4 in /Users/maxschlafli/venv/lib/python3.8/site-packages (from google-auth>=2.13.0->pandas_gbq) (4.7.2)\n",
      "Requirement already satisfied: cachetools<6.0,>=2.0.0 in /Users/maxschlafli/venv/lib/python3.8/site-packages (from google-auth>=2.13.0->pandas_gbq) (5.3.0)\n",
      "Requirement already satisfied: pyasn1-modules>=0.2.1 in /Users/maxschlafli/venv/lib/python3.8/site-packages (from google-auth>=2.13.0->pandas_gbq) (0.2.8)\n",
      "Requirement already satisfied: requests-oauthlib>=0.7.0 in /Users/maxschlafli/venv/lib/python3.8/site-packages (from google-auth-oauthlib>=0.7.0->pandas_gbq) (1.3.0)\n",
      "Requirement already satisfied: google-resumable-media<3.0dev,>=0.6.0 in /Users/maxschlafli/venv/lib/python3.8/site-packages (from google-cloud-bigquery!=2.4.*,<4.0.0dev,>=3.3.5->pandas_gbq) (2.4.1)\n",
      "Requirement already satisfied: python-dateutil<3.0dev,>=2.7.2 in /Users/maxschlafli/venv/lib/python3.8/site-packages (from google-cloud-bigquery!=2.4.*,<4.0.0dev,>=3.3.5->pandas_gbq) (2.8.2)\n",
      "Requirement already satisfied: grpcio<2.0dev,>=1.47.0 in /Users/maxschlafli/venv/lib/python3.8/site-packages (from google-cloud-bigquery!=2.4.*,<4.0.0dev,>=3.3.5->pandas_gbq) (1.51.3)\n",
      "Requirement already satisfied: proto-plus<2.0.0dev,>=1.15.0 in /Users/maxschlafli/venv/lib/python3.8/site-packages (from google-cloud-bigquery!=2.4.*,<4.0.0dev,>=3.3.5->pandas_gbq) (1.22.2)\n",
      "Requirement already satisfied: google-cloud-core<3.0.0dev,>=1.6.0 in /Users/maxschlafli/venv/lib/python3.8/site-packages (from google-cloud-bigquery!=2.4.*,<4.0.0dev,>=3.3.5->pandas_gbq) (2.3.2)\n",
      "Requirement already satisfied: pytz>=2017.3 in /Users/maxschlafli/venv/lib/python3.8/site-packages (from pandas>=1.1.4->pandas_gbq) (2022.7.1)\n",
      "Requirement already satisfied: grpcio-status<2.0dev,>=1.33.2 in /Users/maxschlafli/venv/lib/python3.8/site-packages (from google-api-core<3.0.0dev,>=2.10.2->pandas_gbq) (1.51.3)\n",
      "Requirement already satisfied: google-crc32c<2.0dev,>=1.0 in /Users/maxschlafli/venv/lib/python3.8/site-packages (from google-resumable-media<3.0dev,>=0.6.0->google-cloud-bigquery!=2.4.*,<4.0.0dev,>=3.3.5->pandas_gbq) (1.5.0)\n",
      "Requirement already satisfied: pyparsing!=3.0.5,>=2.0.2 in /Users/maxschlafli/venv/lib/python3.8/site-packages (from packaging>=17.0->db-dtypes<2.0.0,>=1.0.4->pandas_gbq) (2.4.7)\n",
      "Requirement already satisfied: pyasn1<0.5.0,>=0.4.6 in /Users/maxschlafli/venv/lib/python3.8/site-packages (from pyasn1-modules>=0.2.1->google-auth>=2.13.0->pandas_gbq) (0.4.8)\n",
      "Requirement already satisfied: urllib3<1.27,>=1.21.1 in /Users/maxschlafli/venv/lib/python3.8/site-packages (from requests<3.0.0dev,>=2.18.0->google-api-core<3.0.0dev,>=2.10.2->pandas_gbq) (1.26.7)\n",
      "Requirement already satisfied: charset-normalizer~=2.0.0 in /Users/maxschlafli/venv/lib/python3.8/site-packages (from requests<3.0.0dev,>=2.18.0->google-api-core<3.0.0dev,>=2.10.2->pandas_gbq) (2.0.6)\n",
      "Requirement already satisfied: idna<4,>=2.5 in /Users/maxschlafli/venv/lib/python3.8/site-packages (from requests<3.0.0dev,>=2.18.0->google-api-core<3.0.0dev,>=2.10.2->pandas_gbq) (3.2)\n",
      "Requirement already satisfied: certifi>=2017.4.17 in /Users/maxschlafli/venv/lib/python3.8/site-packages (from requests<3.0.0dev,>=2.18.0->google-api-core<3.0.0dev,>=2.10.2->pandas_gbq) (2021.5.30)\n",
      "Requirement already satisfied: oauthlib>=3.0.0 in /Users/maxschlafli/venv/lib/python3.8/site-packages (from requests-oauthlib>=0.7.0->google-auth-oauthlib>=0.7.0->pandas_gbq) (3.1.1)\n",
      "Installing collected packages: db-dtypes, pydata-google-auth, pandas_gbq\n",
      "Successfully installed db-dtypes-1.0.5 pandas_gbq-0.19.1 pydata-google-auth-1.7.0\n",
      "\n",
      "\u001b[1m[\u001b[0m\u001b[34;49mnotice\u001b[0m\u001b[1;39;49m]\u001b[0m\u001b[39;49m A new release of pip is available: \u001b[0m\u001b[31;49m23.0\u001b[0m\u001b[39;49m -> \u001b[0m\u001b[32;49m23.0.1\u001b[0m\n",
      "\u001b[1m[\u001b[0m\u001b[34;49mnotice\u001b[0m\u001b[1;39;49m]\u001b[0m\u001b[39;49m To update, run: \u001b[0m\u001b[32;49mpython -m pip install --upgrade pip\u001b[0m\n",
      "Note: you may need to restart the kernel to use updated packages.\n"
     ]
    }
   ],
   "source": [
    "pip install pandas_gbq"
   ]
  },
  {
   "cell_type": "code",
   "execution_count": 31,
   "id": "160bfb6e",
   "metadata": {
    "collapsed": true
   },
   "outputs": [
    {
     "name": "stdout",
     "output_type": "stream",
     "text": [
      "Requirement already satisfied: db_dtypes in /Users/maxschlafli/venv/lib/python3.8/site-packages (1.0.5)\n",
      "Requirement already satisfied: pandas<2.0dev,>=0.24.2 in /Users/maxschlafli/venv/lib/python3.8/site-packages (from db_dtypes) (1.3.4)\n",
      "Requirement already satisfied: numpy<2.0dev,>=1.16.6 in /Users/maxschlafli/venv/lib/python3.8/site-packages (from db_dtypes) (1.21.2)\n",
      "Requirement already satisfied: pyarrow>=3.0.0 in /Users/maxschlafli/venv/lib/python3.8/site-packages (from db_dtypes) (5.0.0)\n",
      "Requirement already satisfied: packaging>=17.0 in /Users/maxschlafli/venv/lib/python3.8/site-packages (from db_dtypes) (21.3)\n",
      "Requirement already satisfied: pyparsing!=3.0.5,>=2.0.2 in /Users/maxschlafli/venv/lib/python3.8/site-packages (from packaging>=17.0->db_dtypes) (2.4.7)\n",
      "Requirement already satisfied: python-dateutil>=2.7.3 in /Users/maxschlafli/venv/lib/python3.8/site-packages (from pandas<2.0dev,>=0.24.2->db_dtypes) (2.8.2)\n",
      "Requirement already satisfied: pytz>=2017.3 in /Users/maxschlafli/venv/lib/python3.8/site-packages (from pandas<2.0dev,>=0.24.2->db_dtypes) (2022.7.1)\n",
      "Requirement already satisfied: six>=1.5 in /Users/maxschlafli/venv/lib/python3.8/site-packages (from python-dateutil>=2.7.3->pandas<2.0dev,>=0.24.2->db_dtypes) (1.16.0)\n",
      "\n",
      "\u001b[1m[\u001b[0m\u001b[34;49mnotice\u001b[0m\u001b[1;39;49m]\u001b[0m\u001b[39;49m A new release of pip is available: \u001b[0m\u001b[31;49m23.0\u001b[0m\u001b[39;49m -> \u001b[0m\u001b[32;49m23.0.1\u001b[0m\n",
      "\u001b[1m[\u001b[0m\u001b[34;49mnotice\u001b[0m\u001b[1;39;49m]\u001b[0m\u001b[39;49m To update, run: \u001b[0m\u001b[32;49mpython -m pip install --upgrade pip\u001b[0m\n",
      "Note: you may need to restart the kernel to use updated packages.\n"
     ]
    }
   ],
   "source": [
    "pip install db_dtypes"
   ]
  },
  {
   "cell_type": "code",
   "execution_count": 35,
   "id": "f36a2095",
   "metadata": {
    "collapsed": true
   },
   "outputs": [
    {
     "name": "stdout",
     "output_type": "stream",
     "text": [
      "Requirement already satisfied: google-cloud-bigquery[pandas] in /Users/maxschlafli/venv/lib/python3.8/site-packages (3.6.0)\n",
      "Requirement already satisfied: google-cloud-core<3.0.0dev,>=1.6.0 in /Users/maxschlafli/venv/lib/python3.8/site-packages (from google-cloud-bigquery[pandas]) (2.3.2)\n",
      "Requirement already satisfied: proto-plus<2.0.0dev,>=1.15.0 in /Users/maxschlafli/venv/lib/python3.8/site-packages (from google-cloud-bigquery[pandas]) (1.22.2)\n",
      "Requirement already satisfied: grpcio<2.0dev,>=1.47.0 in /Users/maxschlafli/venv/lib/python3.8/site-packages (from google-cloud-bigquery[pandas]) (1.51.3)\n",
      "Requirement already satisfied: google-api-core[grpc]!=2.0.*,!=2.1.*,!=2.2.*,!=2.3.0,<3.0.0dev,>=1.31.5 in /Users/maxschlafli/venv/lib/python3.8/site-packages (from google-cloud-bigquery[pandas]) (2.11.0)\n",
      "Requirement already satisfied: google-resumable-media<3.0dev,>=0.6.0 in /Users/maxschlafli/venv/lib/python3.8/site-packages (from google-cloud-bigquery[pandas]) (2.4.1)\n",
      "Requirement already satisfied: packaging>=20.0.0 in /Users/maxschlafli/venv/lib/python3.8/site-packages (from google-cloud-bigquery[pandas]) (21.3)\n",
      "Requirement already satisfied: protobuf!=3.20.0,!=3.20.1,!=4.21.0,!=4.21.1,!=4.21.2,!=4.21.3,!=4.21.4,!=4.21.5,<5.0.0dev,>=3.19.5 in /Users/maxschlafli/venv/lib/python3.8/site-packages (from google-cloud-bigquery[pandas]) (4.22.0)\n",
      "Requirement already satisfied: python-dateutil<3.0dev,>=2.7.2 in /Users/maxschlafli/venv/lib/python3.8/site-packages (from google-cloud-bigquery[pandas]) (2.8.2)\n",
      "Requirement already satisfied: requests<3.0.0dev,>=2.21.0 in /Users/maxschlafli/venv/lib/python3.8/site-packages (from google-cloud-bigquery[pandas]) (2.26.0)\n",
      "Requirement already satisfied: pandas>=1.1.0 in /Users/maxschlafli/venv/lib/python3.8/site-packages (from google-cloud-bigquery[pandas]) (1.3.4)\n",
      "Requirement already satisfied: pyarrow>=3.0.0 in /Users/maxschlafli/venv/lib/python3.8/site-packages (from google-cloud-bigquery[pandas]) (5.0.0)\n",
      "Requirement already satisfied: db-dtypes<2.0.0dev,>=0.3.0 in /Users/maxschlafli/venv/lib/python3.8/site-packages (from google-cloud-bigquery[pandas]) (1.0.5)\n",
      "Requirement already satisfied: numpy<2.0dev,>=1.16.6 in /Users/maxschlafli/venv/lib/python3.8/site-packages (from db-dtypes<2.0.0dev,>=0.3.0->google-cloud-bigquery[pandas]) (1.21.2)\n",
      "Requirement already satisfied: googleapis-common-protos<2.0dev,>=1.56.2 in /Users/maxschlafli/venv/lib/python3.8/site-packages (from google-api-core[grpc]!=2.0.*,!=2.1.*,!=2.2.*,!=2.3.0,<3.0.0dev,>=1.31.5->google-cloud-bigquery[pandas]) (1.58.0)\n",
      "Requirement already satisfied: google-auth<3.0dev,>=2.14.1 in /Users/maxschlafli/venv/lib/python3.8/site-packages (from google-api-core[grpc]!=2.0.*,!=2.1.*,!=2.2.*,!=2.3.0,<3.0.0dev,>=1.31.5->google-cloud-bigquery[pandas]) (2.16.1)\n",
      "Requirement already satisfied: grpcio-status<2.0dev,>=1.33.2 in /Users/maxschlafli/venv/lib/python3.8/site-packages (from google-api-core[grpc]!=2.0.*,!=2.1.*,!=2.2.*,!=2.3.0,<3.0.0dev,>=1.31.5->google-cloud-bigquery[pandas]) (1.51.3)\n",
      "Requirement already satisfied: google-crc32c<2.0dev,>=1.0 in /Users/maxschlafli/venv/lib/python3.8/site-packages (from google-resumable-media<3.0dev,>=0.6.0->google-cloud-bigquery[pandas]) (1.5.0)\n",
      "Requirement already satisfied: pyparsing!=3.0.5,>=2.0.2 in /Users/maxschlafli/venv/lib/python3.8/site-packages (from packaging>=20.0.0->google-cloud-bigquery[pandas]) (2.4.7)\n",
      "Requirement already satisfied: pytz>=2017.3 in /Users/maxschlafli/venv/lib/python3.8/site-packages (from pandas>=1.1.0->google-cloud-bigquery[pandas]) (2022.7.1)\n",
      "Requirement already satisfied: six>=1.5 in /Users/maxschlafli/venv/lib/python3.8/site-packages (from python-dateutil<3.0dev,>=2.7.2->google-cloud-bigquery[pandas]) (1.16.0)\n",
      "Requirement already satisfied: certifi>=2017.4.17 in /Users/maxschlafli/venv/lib/python3.8/site-packages (from requests<3.0.0dev,>=2.21.0->google-cloud-bigquery[pandas]) (2021.5.30)\n",
      "Requirement already satisfied: urllib3<1.27,>=1.21.1 in /Users/maxschlafli/venv/lib/python3.8/site-packages (from requests<3.0.0dev,>=2.21.0->google-cloud-bigquery[pandas]) (1.26.7)\n",
      "Requirement already satisfied: charset-normalizer~=2.0.0 in /Users/maxschlafli/venv/lib/python3.8/site-packages (from requests<3.0.0dev,>=2.21.0->google-cloud-bigquery[pandas]) (2.0.6)\n",
      "Requirement already satisfied: idna<4,>=2.5 in /Users/maxschlafli/venv/lib/python3.8/site-packages (from requests<3.0.0dev,>=2.21.0->google-cloud-bigquery[pandas]) (3.2)\n",
      "Requirement already satisfied: cachetools<6.0,>=2.0.0 in /Users/maxschlafli/venv/lib/python3.8/site-packages (from google-auth<3.0dev,>=2.14.1->google-api-core[grpc]!=2.0.*,!=2.1.*,!=2.2.*,!=2.3.0,<3.0.0dev,>=1.31.5->google-cloud-bigquery[pandas]) (5.3.0)\n",
      "Requirement already satisfied: pyasn1-modules>=0.2.1 in /Users/maxschlafli/venv/lib/python3.8/site-packages (from google-auth<3.0dev,>=2.14.1->google-api-core[grpc]!=2.0.*,!=2.1.*,!=2.2.*,!=2.3.0,<3.0.0dev,>=1.31.5->google-cloud-bigquery[pandas]) (0.2.8)\n",
      "Requirement already satisfied: rsa<5,>=3.1.4 in /Users/maxschlafli/venv/lib/python3.8/site-packages (from google-auth<3.0dev,>=2.14.1->google-api-core[grpc]!=2.0.*,!=2.1.*,!=2.2.*,!=2.3.0,<3.0.0dev,>=1.31.5->google-cloud-bigquery[pandas]) (4.7.2)\n",
      "Requirement already satisfied: pyasn1<0.5.0,>=0.4.6 in /Users/maxschlafli/venv/lib/python3.8/site-packages (from pyasn1-modules>=0.2.1->google-auth<3.0dev,>=2.14.1->google-api-core[grpc]!=2.0.*,!=2.1.*,!=2.2.*,!=2.3.0,<3.0.0dev,>=1.31.5->google-cloud-bigquery[pandas]) (0.4.8)\n",
      "\n",
      "\u001b[1m[\u001b[0m\u001b[34;49mnotice\u001b[0m\u001b[1;39;49m]\u001b[0m\u001b[39;49m A new release of pip is available: \u001b[0m\u001b[31;49m23.0\u001b[0m\u001b[39;49m -> \u001b[0m\u001b[32;49m23.0.1\u001b[0m\n",
      "\u001b[1m[\u001b[0m\u001b[34;49mnotice\u001b[0m\u001b[1;39;49m]\u001b[0m\u001b[39;49m To update, run: \u001b[0m\u001b[32;49mpython -m pip install --upgrade pip\u001b[0m\n",
      "Note: you may need to restart the kernel to use updated packages.\n"
     ]
    }
   ],
   "source": [
    "pip install 'google-cloud-bigquery[pandas]'"
   ]
  },
  {
   "cell_type": "code",
   "execution_count": 2,
   "id": "c28d5e46",
   "metadata": {},
   "outputs": [],
   "source": [
    "import os\n",
    "import pandas as pd\n",
    "import pandas_gbq as pd_gbq\n",
    "from google.cloud import bigquery\n",
    "from google.cloud.exceptions import NotFound"
   ]
  },
  {
   "cell_type": "markdown",
   "id": "74040a11",
   "metadata": {},
   "source": [
    "## Create GBQ Client from credentials"
   ]
  },
  {
   "cell_type": "code",
   "execution_count": 3,
   "id": "0eb16078",
   "metadata": {},
   "outputs": [],
   "source": [
    "### Create API Key in GCP Console (Remove)\n",
    "api_key = '<insert api key>'\n",
    "\n",
    "### Create GCP Service Account (Remove)\n",
    "service_account_email = 'maxschlafli-smg-service-accoun@smgmaxschlafli.iam.gserviceaccount.com'\n",
    "\n",
    "### Create client using json file & project_id\n",
    "client = bigquery.Client.from_service_account_json(json_credentials_path=\"credentials.json\")"
   ]
  },
  {
   "cell_type": "markdown",
   "id": "91dee203",
   "metadata": {},
   "source": [
    "## Create test dataset"
   ]
  },
  {
   "cell_type": "code",
   "execution_count": 4,
   "id": "c6b7519c",
   "metadata": {},
   "outputs": [],
   "source": [
    "project = 'smgmaxschlafli'\n",
    "dataset_id = f\"{project}.test_dataset\""
   ]
  },
  {
   "cell_type": "code",
   "execution_count": 20,
   "id": "aa9734f4",
   "metadata": {},
   "outputs": [
    {
     "name": "stdout",
     "output_type": "stream",
     "text": [
      "Created dataset smgmaxschlafli.test_dataset\n"
     ]
    }
   ],
   "source": [
    "# Create dataset object\n",
    "dataset = bigquery.Dataset(dataset_id)\n",
    "\n",
    "# Set geo location\n",
    "dataset.location = \"EU\"\n",
    "\n",
    "dataset = client.create_dataset(dataset, timeout=30)  # Make an API request.\n",
    "print(f\"Created dataset {dataset_id}\")"
   ]
  },
  {
   "cell_type": "markdown",
   "id": "0d951b47",
   "metadata": {},
   "source": [
    "## Create test table"
   ]
  },
  {
   "cell_type": "code",
   "execution_count": 5,
   "id": "5302ffcb",
   "metadata": {},
   "outputs": [],
   "source": [
    "table_id = f\"{dataset_id}.test_table\""
   ]
  },
  {
   "cell_type": "code",
   "execution_count": 22,
   "id": "65fbea39",
   "metadata": {},
   "outputs": [
    {
     "name": "stdout",
     "output_type": "stream",
     "text": [
      "Created table smgmaxschlafli.test_dataset.smgmaxschlafli.test_dataset.test_table\n"
     ]
    }
   ],
   "source": [
    "schema = [\n",
    "    bigquery.SchemaField(\"full_name\", \"STRING\", mode=\"REQUIRED\"),\n",
    "    bigquery.SchemaField(\"age\", \"INTEGER\", mode=\"REQUIRED\"),\n",
    "]\n",
    "\n",
    "table = bigquery.Table(table_id, schema=schema)\n",
    "table = client.create_table(table)  \n",
    "print(f\"Created table {table_id}\")"
   ]
  },
  {
   "cell_type": "markdown",
   "id": "590466c1",
   "metadata": {},
   "source": [
    "## Load test DF into BGQ table"
   ]
  },
  {
   "cell_type": "code",
   "execution_count": 29,
   "id": "451fe0ac",
   "metadata": {},
   "outputs": [
    {
     "name": "stdout",
     "output_type": "stream",
     "text": [
      "Reason: Already Exists: Table smgmaxschlafli:test_dataset.test_table\n"
     ]
    }
   ],
   "source": [
    "## Create DF\n",
    "df = pd.DataFrame(\n",
    "    {\n",
    "        \"full_name\": [\"max\", \"markus\", \"michael\", \"melanie\"],\n",
    "        \"age\": [29, 32, 34, 36],\n",
    "    }\n",
    ")\n",
    "\n",
    "### Load DF to test table\n",
    "try:\n",
    "    pd_gbq.to_gbq(df, table_id, project_id=project)\n",
    "    print(f\"Populated table {dataset_id}.{table_id}\")\n",
    "\n",
    "except Exception as e:\n",
    "    print(e)"
   ]
  },
  {
   "cell_type": "code",
   "execution_count": 6,
   "id": "5d561572",
   "metadata": {},
   "outputs": [],
   "source": [
    "sql = \"\"\"\n",
    "SELECT * FROM `smgmaxschlafli.test_dataset.test_table` LIMIT 5\n",
    "\"\"\"\n",
    "\n",
    "df_gbq = client.query(sql).to_dataframe()"
   ]
  },
  {
   "cell_type": "code",
   "execution_count": 7,
   "id": "85717ffe",
   "metadata": {},
   "outputs": [
    {
     "data": {
      "text/html": [
       "<div>\n",
       "<style scoped>\n",
       "    .dataframe tbody tr th:only-of-type {\n",
       "        vertical-align: middle;\n",
       "    }\n",
       "\n",
       "    .dataframe tbody tr th {\n",
       "        vertical-align: top;\n",
       "    }\n",
       "\n",
       "    .dataframe thead th {\n",
       "        text-align: right;\n",
       "    }\n",
       "</style>\n",
       "<table border=\"1\" class=\"dataframe\">\n",
       "  <thead>\n",
       "    <tr style=\"text-align: right;\">\n",
       "      <th></th>\n",
       "      <th>full_name</th>\n",
       "      <th>age</th>\n",
       "    </tr>\n",
       "  </thead>\n",
       "  <tbody>\n",
       "    <tr>\n",
       "      <th>0</th>\n",
       "      <td>max</td>\n",
       "      <td>29</td>\n",
       "    </tr>\n",
       "    <tr>\n",
       "      <th>1</th>\n",
       "      <td>markus</td>\n",
       "      <td>32</td>\n",
       "    </tr>\n",
       "    <tr>\n",
       "      <th>2</th>\n",
       "      <td>michael</td>\n",
       "      <td>34</td>\n",
       "    </tr>\n",
       "    <tr>\n",
       "      <th>3</th>\n",
       "      <td>melanie</td>\n",
       "      <td>36</td>\n",
       "    </tr>\n",
       "  </tbody>\n",
       "</table>\n",
       "</div>"
      ],
      "text/plain": [
       "  full_name  age\n",
       "0       max   29\n",
       "1    markus   32\n",
       "2   michael   34\n",
       "3   melanie   36"
      ]
     },
     "execution_count": 7,
     "metadata": {},
     "output_type": "execute_result"
    }
   ],
   "source": [
    "df_gbq"
   ]
  },
  {
   "cell_type": "code",
   "execution_count": null,
   "id": "77cacd9e",
   "metadata": {},
   "outputs": [],
   "source": []
  }
 ],
 "metadata": {
  "kernelspec": {
   "display_name": "venv",
   "language": "python",
   "name": "venv"
  },
  "language_info": {
   "codemirror_mode": {
    "name": "ipython",
    "version": 3
   },
   "file_extension": ".py",
   "mimetype": "text/x-python",
   "name": "python",
   "nbconvert_exporter": "python",
   "pygments_lexer": "ipython3",
   "version": "3.8.6"
  }
 },
 "nbformat": 4,
 "nbformat_minor": 5
}
