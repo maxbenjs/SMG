{
 "cells": [
  {
   "cell_type": "markdown",
   "id": "ce9ab9df",
   "metadata": {},
   "source": [
    "## Challenge B (Total: 5 Points):\n",
    "#### Scenario: \n",
    "Swiss Marketplace Group (SMG) wants to analyse its general listings (classifieds) data to\n",
    "determine which product types are the most popular and which ones are idle. The company wants to\n",
    "use this information to make decisions about which product types they should invest in different ways\n",
    "of promoting (idle listings).\n",
    "\n",
    "\n",
    "#### Task 1 (2.5 Points): \n",
    "Write a script/query that shows the following information:\n",
    "- a) The top 3 selling product types by platform.\n",
    "- b) The bottom 3 selling product types by platform.\n",
    "- c) The top 3 idle product types (amount of days).\n",
    "- d) The total amount sold by product type (monetary value rounded to two decimals).\n",
    "- e) Any other insights you could learn from the data that would be useful for the company to know.\n",
    "\n",
    "#### Task 2 (2.5 Points): \n",
    "Create data visualizations (charts or/and dashboards) that can be used to explain\n",
    "the results of task 1 (a,b,c,d,e).\n",
    "- a) The top 3 selling product types by platform.\n",
    "- b) The bottom 3 selling product types by platform.\n",
    "- c) The top 3 idle product types (amount of days).\n",
    "- d) The total amount sold by product type (monetary value rounded to two decimals).\n",
    "- e) Any other insights you could learn from the data that would be useful for the company to know.\n",
    "\n",
    "\n",
    "### General Approach\n",
    "- Analysis below combines both tasks for each analysis (script & visualisations)\n",
    "- Considered using Looker Studio, after first plotting with Python\n",
    "    - I deemded the Python visualisations, whilst simple, sufficient for the task at hand\n",
    "    - Given the time constraints, I decided against the use of Looker Studio\n",
    "    - In a production dwh environment, a BI tool would naturally be the better solution\n",
    "- Improvments for the Python visualisations would include increase text size of graph titles, x/y-labels, coloring of individual bars, but again was rejected given time constratins\n",
    " \n",
    "\n",
    "### SQL\n",
    "- Decided SQL queries over DataFrame manipulations with Pandas, as more appropriate for the task\n",
    "    - No advanced analytics where Python has obvious advantages\n",
    "    - BI nature of the task\n",
    "    - Data manipulation / joins / window functions can be easily implemented in SQL and is visually easier to follow\n",
    "    \n",
    "- For all the task, the same base CTE which contains necessary joins\n",
    "- When required, there are additional CTEs to create the desired dataset (e.g. Window functions to Rank top/bottom items)\n",
    "\n",
    "\n",
    "#### SQL: Calculating 'Idle Products' / days_listed\n",
    "- I consider idle products which have yet to be sold, and therefore don't yet have a 'listing_end_date'\n",
    "- Given the static nature of dataset, I didn't want to use the current date, but instead chose the maximum date within the dataset as the end_date on which to calculate the days_listed"
   ]
  },
  {
   "cell_type": "code",
   "execution_count": 52,
   "id": "b327d685",
   "metadata": {},
   "outputs": [],
   "source": [
    "import os\n",
    "import pandas as pd\n",
    "import pandas_gbq as pd_gbq\n",
    "from google.cloud import bigquery\n",
    "from matplotlib import pyplot as plt"
   ]
  },
  {
   "cell_type": "code",
   "execution_count": 4,
   "id": "d8386512",
   "metadata": {},
   "outputs": [],
   "source": [
    "### Create client using json file & project_id\n",
    "client = bigquery.Client.from_service_account_json(json_credentials_path=\"credentials.json\")\n",
    "pysqldf = lambda q: sqldf(q, globals())"
   ]
  },
  {
   "cell_type": "markdown",
   "id": "9c9069f8",
   "metadata": {},
   "source": [
    "## a) Top 3 selling product types by platform"
   ]
  },
  {
   "cell_type": "code",
   "execution_count": 48,
   "id": "273e5893",
   "metadata": {},
   "outputs": [],
   "source": [
    "sql_top_3 = \"\"\"\n",
    "    with product_listings as (\n",
    "      select\n",
    "          cl.*\n",
    "        , dpt.product_type\n",
    "        , replace(dp.platform,'.ch','') as platform\n",
    "        , date_diff(coalesce(last_update_date, DATE(2022,01,28)),  creation_date, day) as days_listed\n",
    "      from `cln_listings.cln_listings`cl\n",
    "      left join `dim_platform.dim_platform` dp on cl.platform_id = dp.platform_id and cl.creation_date between dp.valid_from and dp.valid_to\n",
    "      left join `dim_product_type.dim_product_type` dpt on cl.product_type_id = dpt.product_type_id  and dpt.product_type != 'Sofaa'\n",
    "    ),\n",
    "    product_listings_agg as (\n",
    "      select\n",
    "          platform\n",
    "        , product_type\n",
    "        , count(distinct listing_id) as listings\n",
    "        , round(sum(price),2) as total_ammount\n",
    "        , round(avg(days_listed),2) as avg_days_listed\n",
    "      from product_listings\n",
    "      group by 1,2\n",
    "    ),\n",
    "    product_listings_agg_ranked as (\n",
    "      select\n",
    "          platform\n",
    "        , product_type\n",
    "        , listings\n",
    "        , total_ammount\n",
    "        , avg_days_listed\n",
    "        , rank() over (partition by platform order by listings desc) listings_ranked_best\n",
    "        , rank() over (partition by platform order by listings asc) listings_ranked_worst\n",
    "      from product_listings_agg\n",
    "    )\n",
    "    select\n",
    "    platform, product_type, listings\n",
    "    from product_listings_agg_ranked \n",
    "    where listings_ranked_best in (1,2,3) \n",
    "    order by platform, listings_ranked_best asc\n",
    "    \"\"\"\n",
    "\n",
    "dft3 = client.query(sql_top_3).to_dataframe()"
   ]
  },
  {
   "cell_type": "code",
   "execution_count": 51,
   "id": "a1bf80d9",
   "metadata": {},
   "outputs": [
    {
     "data": {
      "text/html": [
       "<div>\n",
       "<style scoped>\n",
       "    .dataframe tbody tr th:only-of-type {\n",
       "        vertical-align: middle;\n",
       "    }\n",
       "\n",
       "    .dataframe tbody tr th {\n",
       "        vertical-align: top;\n",
       "    }\n",
       "\n",
       "    .dataframe thead th {\n",
       "        text-align: right;\n",
       "    }\n",
       "</style>\n",
       "<table border=\"1\" class=\"dataframe\">\n",
       "  <thead>\n",
       "    <tr style=\"text-align: right;\">\n",
       "      <th></th>\n",
       "      <th>platform</th>\n",
       "      <th>product_type</th>\n",
       "      <th>listings</th>\n",
       "    </tr>\n",
       "  </thead>\n",
       "  <tbody>\n",
       "    <tr>\n",
       "      <th>0</th>\n",
       "      <td>Anibis</td>\n",
       "      <td>Tennis racket</td>\n",
       "      <td>14</td>\n",
       "    </tr>\n",
       "    <tr>\n",
       "      <th>1</th>\n",
       "      <td>Anibis</td>\n",
       "      <td>Glass bottle</td>\n",
       "      <td>10</td>\n",
       "    </tr>\n",
       "    <tr>\n",
       "      <th>2</th>\n",
       "      <td>Anibis</td>\n",
       "      <td>Iron</td>\n",
       "      <td>6</td>\n",
       "    </tr>\n",
       "    <tr>\n",
       "      <th>3</th>\n",
       "      <td>Ricardo</td>\n",
       "      <td>Radio</td>\n",
       "      <td>10</td>\n",
       "    </tr>\n",
       "    <tr>\n",
       "      <th>4</th>\n",
       "      <td>Ricardo</td>\n",
       "      <td>Mountain Bike</td>\n",
       "      <td>9</td>\n",
       "    </tr>\n",
       "    <tr>\n",
       "      <th>5</th>\n",
       "      <td>Ricardo</td>\n",
       "      <td>Snowboard</td>\n",
       "      <td>5</td>\n",
       "    </tr>\n",
       "    <tr>\n",
       "      <th>6</th>\n",
       "      <td>Tutti</td>\n",
       "      <td>Notebook</td>\n",
       "      <td>6</td>\n",
       "    </tr>\n",
       "    <tr>\n",
       "      <th>7</th>\n",
       "      <td>Tutti</td>\n",
       "      <td>Skiis</td>\n",
       "      <td>2</td>\n",
       "    </tr>\n",
       "    <tr>\n",
       "      <th>8</th>\n",
       "      <td>Tutti</td>\n",
       "      <td>Watch</td>\n",
       "      <td>2</td>\n",
       "    </tr>\n",
       "    <tr>\n",
       "      <th>9</th>\n",
       "      <td>Tutti</td>\n",
       "      <td>Mousepad</td>\n",
       "      <td>2</td>\n",
       "    </tr>\n",
       "  </tbody>\n",
       "</table>\n",
       "</div>"
      ],
      "text/plain": [
       "  platform   product_type  listings\n",
       "0   Anibis  Tennis racket        14\n",
       "1   Anibis   Glass bottle        10\n",
       "2   Anibis           Iron         6\n",
       "3  Ricardo          Radio        10\n",
       "4  Ricardo  Mountain Bike         9\n",
       "5  Ricardo      Snowboard         5\n",
       "6    Tutti       Notebook         6\n",
       "7    Tutti          Skiis         2\n",
       "8    Tutti          Watch         2\n",
       "9    Tutti       Mousepad         2"
      ]
     },
     "execution_count": 51,
     "metadata": {},
     "output_type": "execute_result"
    }
   ],
   "source": [
    "dft3"
   ]
  },
  {
   "cell_type": "code",
   "execution_count": 66,
   "id": "233406df",
   "metadata": {},
   "outputs": [
    {
     "data": {
      "text/plain": [
       "<AxesSubplot:title={'center':'Tutti'}, xlabel='product_type'>"
      ]
     },
     "execution_count": 66,
     "metadata": {},
     "output_type": "execute_result"
    },
    {
     "data": {
      "image/png": "[encoded data removed]",
      "text/plain": [
       "<Figure size 1008x432 with 3 Axes>"
      ]
     },
     "metadata": {
      "needs_background": "light"
     },
     "output_type": "display_data"
    }
   ],
   "source": [
    "fig, (ax1, ax2, ax3) = plt.subplots(1, 3)\n",
    "\n",
    "dft3[dft3['platform']=='Anibis'].plot(kind='bar', x='product_type', y='listings', ax=ax1, figsize=(14,6), ylim=(0,15), title='Anibis')\n",
    "dft3[dft3['platform']=='Ricardo'].plot(kind='bar', x='product_type', y='listings', ax=ax2, figsize=(14,6), ylim=(0,15), title='Ricardo')\n",
    "dft3[dft3['platform']=='Tutti'].plot(kind='bar', x='product_type', y='listings', ax=ax3, figsize=(14,6), ylim=(0,15), title='Tutti')\n",
    "\n"
   ]
  },
  {
   "cell_type": "markdown",
   "id": "7dd57401",
   "metadata": {},
   "source": [
    "## b) Bottom 3 selling product types by platform"
   ]
  },
  {
   "cell_type": "code",
   "execution_count": 72,
   "id": "bfa8bb81",
   "metadata": {},
   "outputs": [],
   "source": [
    "sql_bottom_3 = \"\"\"\n",
    "    with product_listings as (\n",
    "      select\n",
    "          cl.*\n",
    "        , dpt.product_type\n",
    "        , replace(dp.platform,'.ch','') as platform\n",
    "        , date_diff(coalesce(last_update_date, DATE(2022,01,28)),  creation_date, day) as days_listed\n",
    "      from `cln_listings.cln_listings`cl\n",
    "      left join `dim_platform.dim_platform` dp on cl.platform_id = dp.platform_id and cl.creation_date between dp.valid_from and dp.valid_to\n",
    "      left join `dim_product_type.dim_product_type` dpt on cl.product_type_id = dpt.product_type_id  and dpt.product_type != 'Sofaa'\n",
    "    ),\n",
    "    product_listings_agg as (\n",
    "      select\n",
    "          platform\n",
    "        , product_type\n",
    "        , count(distinct listing_id) as listings\n",
    "        , round(sum(price),2) as total_ammount\n",
    "        , round(avg(days_listed),2) as avg_days_listed\n",
    "      from product_listings\n",
    "      group by 1,2\n",
    "    ),\n",
    "    product_listings_agg_ranked as (\n",
    "      select\n",
    "          platform\n",
    "        , product_type\n",
    "        , listings\n",
    "        , total_ammount\n",
    "        , avg_days_listed\n",
    "        , rank() over (partition by platform order by listings desc) listings_ranked_best\n",
    "        , rank() over (partition by platform order by listings asc) listings_ranked_worst\n",
    "        , rank() over (partition by platform order by total_ammount asc) total_amount_ranked_worst\n",
    "      from product_listings_agg\n",
    "    )\n",
    "    select\n",
    "    platform, product_type, listings, total_ammount\n",
    "    from product_listings_agg_ranked\n",
    "    where listings_ranked_worst in (1,2,3) and total_amount_ranked_worst in (1,2,3)\n",
    "    order by platform, listings_ranked_worst asc\n",
    "    \"\"\"\n",
    "\n",
    "dfb3 = client.query(sql_bottom_3).to_dataframe()"
   ]
  },
  {
   "cell_type": "markdown",
   "id": "029d7f90",
   "metadata": {},
   "source": [
    "#### Note\n",
    "- Given the small dataset size, it wasn't possible to isolate the 3 worst products, since many more shared the 1 listing\n",
    "- Dataset has therefore been further filtered, to fetch the 3 worst performing by both listing & total_amount (price)"
   ]
  },
  {
   "cell_type": "code",
   "execution_count": 73,
   "id": "5ec6d33b",
   "metadata": {},
   "outputs": [
    {
     "data": {
      "text/html": [
       "<div>\n",
       "<style scoped>\n",
       "    .dataframe tbody tr th:only-of-type {\n",
       "        vertical-align: middle;\n",
       "    }\n",
       "\n",
       "    .dataframe tbody tr th {\n",
       "        vertical-align: top;\n",
       "    }\n",
       "\n",
       "    .dataframe thead th {\n",
       "        text-align: right;\n",
       "    }\n",
       "</style>\n",
       "<table border=\"1\" class=\"dataframe\">\n",
       "  <thead>\n",
       "    <tr style=\"text-align: right;\">\n",
       "      <th></th>\n",
       "      <th>platform</th>\n",
       "      <th>product_type</th>\n",
       "      <th>listings</th>\n",
       "      <th>total_ammount</th>\n",
       "    </tr>\n",
       "  </thead>\n",
       "  <tbody>\n",
       "    <tr>\n",
       "      <th>0</th>\n",
       "      <td>Anibis</td>\n",
       "      <td>Winter hiking boots</td>\n",
       "      <td>1</td>\n",
       "      <td>9.0</td>\n",
       "    </tr>\n",
       "    <tr>\n",
       "      <th>1</th>\n",
       "      <td>Anibis</td>\n",
       "      <td>Mirror</td>\n",
       "      <td>1</td>\n",
       "      <td>36.0</td>\n",
       "    </tr>\n",
       "    <tr>\n",
       "      <th>2</th>\n",
       "      <td>Anibis</td>\n",
       "      <td>Carpet</td>\n",
       "      <td>1</td>\n",
       "      <td>58.0</td>\n",
       "    </tr>\n",
       "    <tr>\n",
       "      <th>3</th>\n",
       "      <td>Ricardo</td>\n",
       "      <td>Mattress</td>\n",
       "      <td>1</td>\n",
       "      <td>22.0</td>\n",
       "    </tr>\n",
       "    <tr>\n",
       "      <th>4</th>\n",
       "      <td>Ricardo</td>\n",
       "      <td>Table</td>\n",
       "      <td>1</td>\n",
       "      <td>22.0</td>\n",
       "    </tr>\n",
       "    <tr>\n",
       "      <th>5</th>\n",
       "      <td>Ricardo</td>\n",
       "      <td>Winter hiking boots</td>\n",
       "      <td>1</td>\n",
       "      <td>58.0</td>\n",
       "    </tr>\n",
       "    <tr>\n",
       "      <th>6</th>\n",
       "      <td>Tutti</td>\n",
       "      <td>Tennis racket</td>\n",
       "      <td>1</td>\n",
       "      <td>1.0</td>\n",
       "    </tr>\n",
       "    <tr>\n",
       "      <th>7</th>\n",
       "      <td>Tutti</td>\n",
       "      <td>Climbing shoes</td>\n",
       "      <td>1</td>\n",
       "      <td>6.0</td>\n",
       "    </tr>\n",
       "    <tr>\n",
       "      <th>8</th>\n",
       "      <td>Tutti</td>\n",
       "      <td>Lamp</td>\n",
       "      <td>1</td>\n",
       "      <td>12.0</td>\n",
       "    </tr>\n",
       "  </tbody>\n",
       "</table>\n",
       "</div>"
      ],
      "text/plain": [
       "  platform         product_type  listings  total_ammount\n",
       "0   Anibis  Winter hiking boots         1            9.0\n",
       "1   Anibis               Mirror         1           36.0\n",
       "2   Anibis               Carpet         1           58.0\n",
       "3  Ricardo             Mattress         1           22.0\n",
       "4  Ricardo                Table         1           22.0\n",
       "5  Ricardo  Winter hiking boots         1           58.0\n",
       "6    Tutti        Tennis racket         1            1.0\n",
       "7    Tutti       Climbing shoes         1            6.0\n",
       "8    Tutti                 Lamp         1           12.0"
      ]
     },
     "execution_count": 73,
     "metadata": {},
     "output_type": "execute_result"
    }
   ],
   "source": [
    "dfb3"
   ]
  },
  {
   "cell_type": "code",
   "execution_count": 75,
   "id": "4e08c4aa",
   "metadata": {},
   "outputs": [
    {
     "data": {
      "text/plain": [
       "<AxesSubplot:title={'center':'Tutti'}, xlabel='product_type'>"
      ]
     },
     "execution_count": 75,
     "metadata": {},
     "output_type": "execute_result"
    },
    {
     "data": {
      "image/png": "[encoded data removed]",
      "text/plain": [
       "<Figure size 1008x432 with 3 Axes>"
      ]
     },
     "metadata": {
      "needs_background": "light"
     },
     "output_type": "display_data"
    }
   ],
   "source": [
    "fig, (ax1, ax2, ax3) = plt.subplots(1, 3)\n",
    "\n",
    "dfb3[dfb3['platform']=='Anibis'].plot(kind='bar', x='product_type', y='total_ammount', ax=ax1, figsize=(14,6), ylim=(0,75), title='Anibis')\n",
    "dfb3[dfb3['platform']=='Ricardo'].plot(kind='bar', x='product_type', y='total_ammount', ax=ax2, figsize=(14,6), ylim=(0,75), title='Ricardo')\n",
    "dfb3[dfb3['platform']=='Tutti'].plot(kind='bar', x='product_type', y='total_ammount', ax=ax3, figsize=(14,6), ylim=(0,75), title='Tutti')"
   ]
  },
  {
   "cell_type": "markdown",
   "id": "30626a02",
   "metadata": {},
   "source": [
    "## c) Top 3 idle product types"
   ]
  },
  {
   "cell_type": "code",
   "execution_count": 27,
   "id": "ccd8b241",
   "metadata": {},
   "outputs": [],
   "source": [
    "sql_top_3_idle = \"\"\"\n",
    "    with product_listings as (\n",
    "      select\n",
    "          cl.*\n",
    "        , dpt.product_type\n",
    "        , replace(dp.platform,'.ch','') as platform\n",
    "        , date_diff(coalesce(last_update_date, DATE(2022,01,28)),  creation_date, day) as days_listed\n",
    "      from `cln_listings.cln_listings`cl\n",
    "      left join `dim_platform.dim_platform` dp on cl.platform_id = dp.platform_id and cl.creation_date between dp.valid_from and dp.valid_to\n",
    "      left join `dim_product_type.dim_product_type` dpt on cl.product_type_id = dpt.product_type_id  and dpt.product_type != 'Sofaa'\n",
    "    ),\n",
    "    product_listings_agg as (\n",
    "      select\n",
    "          product_type\n",
    "        , count(distinct listing_id) as listings\n",
    "        , round(sum(price),2) as total_ammount\n",
    "        , round(avg(days_listed),2) as avg_days_listed\n",
    "      from product_listings\n",
    "      group by 1\n",
    "    )\n",
    "    select\n",
    "          product_type\n",
    "        , avg_days_listed\n",
    "        , listings\n",
    "    from product_listings_agg \n",
    "    order by 2 desc\n",
    "    limit 3\n",
    "\"\"\"\n",
    "\n",
    "dft3i = client.query(sql_top_3_idle).to_dataframe()"
   ]
  },
  {
   "cell_type": "code",
   "execution_count": 28,
   "id": "61d2da6d",
   "metadata": {},
   "outputs": [
    {
     "data": {
      "text/html": [
       "<div>\n",
       "<style scoped>\n",
       "    .dataframe tbody tr th:only-of-type {\n",
       "        vertical-align: middle;\n",
       "    }\n",
       "\n",
       "    .dataframe tbody tr th {\n",
       "        vertical-align: top;\n",
       "    }\n",
       "\n",
       "    .dataframe thead th {\n",
       "        text-align: right;\n",
       "    }\n",
       "</style>\n",
       "<table border=\"1\" class=\"dataframe\">\n",
       "  <thead>\n",
       "    <tr style=\"text-align: right;\">\n",
       "      <th></th>\n",
       "      <th>product_type</th>\n",
       "      <th>avg_days_listed</th>\n",
       "      <th>listings</th>\n",
       "    </tr>\n",
       "  </thead>\n",
       "  <tbody>\n",
       "    <tr>\n",
       "      <th>0</th>\n",
       "      <td>Guitar</td>\n",
       "      <td>46.0</td>\n",
       "      <td>1</td>\n",
       "    </tr>\n",
       "    <tr>\n",
       "      <th>1</th>\n",
       "      <td>Baseball</td>\n",
       "      <td>44.0</td>\n",
       "      <td>2</td>\n",
       "    </tr>\n",
       "    <tr>\n",
       "      <th>2</th>\n",
       "      <td>Winter hiking boots</td>\n",
       "      <td>43.0</td>\n",
       "      <td>2</td>\n",
       "    </tr>\n",
       "  </tbody>\n",
       "</table>\n",
       "</div>"
      ],
      "text/plain": [
       "          product_type  avg_days_listed  listings\n",
       "0               Guitar             46.0         1\n",
       "1             Baseball             44.0         2\n",
       "2  Winter hiking boots             43.0         2"
      ]
     },
     "execution_count": 28,
     "metadata": {},
     "output_type": "execute_result"
    }
   ],
   "source": [
    "dft3i               "
   ]
  },
  {
   "cell_type": "code",
   "execution_count": 45,
   "id": "5cea150f",
   "metadata": {},
   "outputs": [
    {
     "data": {
      "text/plain": [
       "<AxesSubplot:xlabel='product_type'>"
      ]
     },
     "execution_count": 45,
     "metadata": {},
     "output_type": "execute_result"
    },
    {
     "data": {
      "image/png": "[encoded data removed]",
      "text/plain": [
       "<Figure size 576x576 with 1 Axes>"
      ]
     },
     "metadata": {
      "needs_background": "light"
     },
     "output_type": "display_data"
    }
   ],
   "source": [
    "dft3i.plot(kind='bar', x='product_type',  y='avg_days_listed', figsize=(8,8), ylim=(40,48))"
   ]
  },
  {
   "cell_type": "markdown",
   "id": "3ee0323e",
   "metadata": {},
   "source": [
    "## d) The total amount sold by product type (monetary value rounded to two decimals)"
   ]
  },
  {
   "cell_type": "code",
   "execution_count": 33,
   "id": "675afafc",
   "metadata": {},
   "outputs": [],
   "source": [
    "sql_top_3_value = \"\"\"\n",
    "    with product_listings as (\n",
    "      select\n",
    "          cl.*\n",
    "        , dpt.product_type\n",
    "        , replace(dp.platform,'.ch','') as platform\n",
    "        , date_diff(coalesce(last_update_date, DATE(2022,01,28)),  creation_date, day) as days_listed\n",
    "      from `cln_listings.cln_listings`cl\n",
    "      left join `dim_platform.dim_platform` dp on cl.platform_id = dp.platform_id and cl.creation_date between dp.valid_from and dp.valid_to\n",
    "      left join `dim_product_type.dim_product_type` dpt on cl.product_type_id = dpt.product_type_id and dpt.product_type != 'Sofaa'\n",
    "    ),\n",
    "    product_listings_agg as (\n",
    "      select\n",
    "          product_type\n",
    "        , count(distinct listing_id) as listings\n",
    "        , round(sum(price),2) as total_ammount\n",
    "        , round(avg(days_listed),2) as avg_days_listed\n",
    "      from product_listings\n",
    "      group by 1\n",
    "    )\n",
    "    select\n",
    "          product_type\n",
    "        , total_ammount\n",
    "        , listings\n",
    "    from product_listings_agg \n",
    "    order by 2 desc\n",
    "    limit 3\n",
    "\"\"\"\n",
    "\n",
    "dft3v = client.query(sql_top_3_value).to_dataframe()"
   ]
  },
  {
   "cell_type": "code",
   "execution_count": 34,
   "id": "54c5a94d",
   "metadata": {},
   "outputs": [
    {
     "data": {
      "text/html": [
       "<div>\n",
       "<style scoped>\n",
       "    .dataframe tbody tr th:only-of-type {\n",
       "        vertical-align: middle;\n",
       "    }\n",
       "\n",
       "    .dataframe tbody tr th {\n",
       "        vertical-align: top;\n",
       "    }\n",
       "\n",
       "    .dataframe thead th {\n",
       "        text-align: right;\n",
       "    }\n",
       "</style>\n",
       "<table border=\"1\" class=\"dataframe\">\n",
       "  <thead>\n",
       "    <tr style=\"text-align: right;\">\n",
       "      <th></th>\n",
       "      <th>product_type</th>\n",
       "      <th>total_ammount</th>\n",
       "      <th>listings</th>\n",
       "    </tr>\n",
       "  </thead>\n",
       "  <tbody>\n",
       "    <tr>\n",
       "      <th>0</th>\n",
       "      <td>Glass bottle</td>\n",
       "      <td>5032.00</td>\n",
       "      <td>11</td>\n",
       "    </tr>\n",
       "    <tr>\n",
       "      <th>1</th>\n",
       "      <td>Iron</td>\n",
       "      <td>3946.00</td>\n",
       "      <td>6</td>\n",
       "    </tr>\n",
       "    <tr>\n",
       "      <th>2</th>\n",
       "      <td>Monitor</td>\n",
       "      <td>3372.87</td>\n",
       "      <td>2</td>\n",
       "    </tr>\n",
       "  </tbody>\n",
       "</table>\n",
       "</div>"
      ],
      "text/plain": [
       "   product_type  total_ammount  listings\n",
       "0  Glass bottle        5032.00        11\n",
       "1          Iron        3946.00         6\n",
       "2       Monitor        3372.87         2"
      ]
     },
     "execution_count": 34,
     "metadata": {},
     "output_type": "execute_result"
    }
   ],
   "source": [
    "dft3v"
   ]
  },
  {
   "cell_type": "code",
   "execution_count": 44,
   "id": "e9d9385b",
   "metadata": {},
   "outputs": [
    {
     "data": {
      "text/plain": [
       "<AxesSubplot:xlabel='product_type'>"
      ]
     },
     "execution_count": 44,
     "metadata": {},
     "output_type": "execute_result"
    },
    {
     "data": {
      "image/png": "[encoded data removed]",
      "text/plain": [
       "<Figure size 576x576 with 1 Axes>"
      ]
     },
     "metadata": {
      "needs_background": "light"
     },
     "output_type": "display_data"
    }
   ],
   "source": [
    "dft3v.plot(kind='bar', x='product_type',  y='total_ammount', figsize=(8,8))"
   ]
  },
  {
   "cell_type": "markdown",
   "id": "24f91be2",
   "metadata": {},
   "source": [
    "## e) Any other insights you could learn from the data that would be useful for the company to know?\n",
    "\n",
    "- Given time constraints, I will consider tackling this analysis once the rest of the Case Study is complete\n",
    "\n",
    "\n",
    "## Analysis Insights for consideration:\n",
    "\n",
    "- Analyse total revenue, whilst considering the number of listings and average_price\n",
    "    - Consider promoting products with high number of number of listings, which suggests high product supply & demand\n",
    "    \n",
    "    \n",
    "- Analyse total revenue & listings whilst considering the average listing times \n",
    "\n",
    "\n",
    "- Analyse products across additional product and geo/user dimensions\n",
    "    - Difficult given the low volume of listings in datset, plus the missing dimensions in the product_type table"
   ]
  },
  {
   "cell_type": "code",
   "execution_count": null,
   "id": "f34dc5f5",
   "metadata": {},
   "outputs": [],
   "source": []
  }
 ],
 "metadata": {
  "kernelspec": {
   "display_name": "venv",
   "language": "python",
   "name": "venv"
  },
  "language_info": {
   "codemirror_mode": {
    "name": "ipython",
    "version": 3
   },
   "file_extension": ".py",
   "mimetype": "text/x-python",
   "name": "python",
   "nbconvert_exporter": "python",
   "pygments_lexer": "ipython3",
   "version": "3.8.6"
  }
 },
 "nbformat": 4,
 "nbformat_minor": 5
}
