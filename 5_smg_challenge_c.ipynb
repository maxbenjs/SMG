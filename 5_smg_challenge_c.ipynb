{
 "cells": [
  {
   "cell_type": "markdown",
   "id": "0f997189",
   "metadata": {},
   "source": [
    "## Challenge C (Total: 2 Points):\n",
    "\n",
    "##### Scenario 1:\n",
    "The fact table ‘general_marketplaces.fct_listings’ is the central part of a\n",
    "star schema and contains periodic snapshots of listings (classifieds). This table is partitioned on the\n",
    "listing_date_key column and is clustered on the platform_id, product_type_id, status_id and user_id\n",
    "columns. The dimensional table ‘general_marketplaces.dim_user’ contains granular\n",
    "information about user location. The dimensional table\n",
    "‘general_marketplaces.dim_product_type’ contains granular information about product\n",
    "type tags.\n",
    "\n",
    "##### Task 1 (2 Points): \n",
    "Please write a SQL script using BigQuery syntax that shows the top 3 countries by number of listings with the product type having the black color for product type tag."
   ]
  },
  {
   "cell_type": "code",
   "execution_count": 1,
   "id": "c218fb91",
   "metadata": {},
   "outputs": [],
   "source": [
    "import os\n",
    "import pandas as pd\n",
    "import pandas_gbq as pd_gbq\n",
    "from google.cloud import bigquery\n",
    "from google.cloud.exceptions import NotFound"
   ]
  },
  {
   "cell_type": "code",
   "execution_count": 4,
   "id": "03b34cc8",
   "metadata": {},
   "outputs": [],
   "source": [
    "### Create client using json file & project_id\n",
    "client = bigquery.Client.from_service_account_json(json_credentials_path=\"credentials.json\")"
   ]
  },
  {
   "cell_type": "code",
   "execution_count": 5,
   "id": "23a334ed",
   "metadata": {},
   "outputs": [],
   "source": [
    "pysqldf = lambda q: sqldf(q, globals())"
   ]
  },
  {
   "cell_type": "code",
   "execution_count": 7,
   "id": "424559fe",
   "metadata": {},
   "outputs": [],
   "source": [
    "sql = \"\"\"\n",
    " with product_listings as (\n",
    "  select\n",
    "      cl.*\n",
    "    , dpt.product_type\n",
    "    , du.location_city\n",
    "    , dpt.product_type_tags_color\n",
    "    , replace(dp.platform,'.ch','') as platform\n",
    "    , date_diff(coalesce(last_update_date, DATE(2022,01,28)),  creation_date, day) as days_listed\n",
    "  from `cln_listings.cln_listings`cl\n",
    "  left join `dim_platform.dim_platform` dp on cl.platform_id = dp.platform_id and cl.creation_date between dp.valid_from and dp.valid_to\n",
    "  left join `dim_product_type.dim_product_type` dpt on cl.product_type_id = dpt.product_type_id\n",
    "  left join `dim_user.dim_user` du on cl.user_id = du.user_id\n",
    ")\n",
    "select \n",
    "      product_type_tags_color\n",
    "    , location_city\n",
    "    , count(distinct listing_id) as listings \n",
    "from product_listings \n",
    "group by 1,2 order by 3 desc\n",
    "\"\"\"\n",
    "\n",
    "df = client.query(sql).to_dataframe()"
   ]
  },
  {
   "cell_type": "code",
   "execution_count": 14,
   "id": "9678e5b7",
   "metadata": {},
   "outputs": [
    {
     "data": {
      "text/html": [
       "<div>\n",
       "<style scoped>\n",
       "    .dataframe tbody tr th:only-of-type {\n",
       "        vertical-align: middle;\n",
       "    }\n",
       "\n",
       "    .dataframe tbody tr th {\n",
       "        vertical-align: top;\n",
       "    }\n",
       "\n",
       "    .dataframe thead th {\n",
       "        text-align: right;\n",
       "    }\n",
       "</style>\n",
       "<table border=\"1\" class=\"dataframe\">\n",
       "  <thead>\n",
       "    <tr style=\"text-align: right;\">\n",
       "      <th></th>\n",
       "      <th>product_type_tags_color</th>\n",
       "      <th>location_city</th>\n",
       "      <th>listings</th>\n",
       "    </tr>\n",
       "  </thead>\n",
       "  <tbody>\n",
       "    <tr>\n",
       "      <th>0</th>\n",
       "      <td>None</td>\n",
       "      <td>Geneva</td>\n",
       "      <td>34</td>\n",
       "    </tr>\n",
       "    <tr>\n",
       "      <th>1</th>\n",
       "      <td>None</td>\n",
       "      <td>Zurich</td>\n",
       "      <td>27</td>\n",
       "    </tr>\n",
       "    <tr>\n",
       "      <th>2</th>\n",
       "      <td>None</td>\n",
       "      <td>Lugano</td>\n",
       "      <td>18</td>\n",
       "    </tr>\n",
       "  </tbody>\n",
       "</table>\n",
       "</div>"
      ],
      "text/plain": [
       "  product_type_tags_color location_city  listings\n",
       "0                    None        Geneva        34\n",
       "1                    None        Zurich        27\n",
       "2                    None        Lugano        18"
      ]
     },
     "execution_count": 14,
     "metadata": {},
     "output_type": "execute_result"
    }
   ],
   "source": [
    "df[df.index<3]"
   ]
  },
  {
   "cell_type": "code",
   "execution_count": 15,
   "id": "a4194a23",
   "metadata": {},
   "outputs": [
    {
     "data": {
      "text/plain": [
       "<AxesSubplot:xlabel='location_city'>"
      ]
     },
     "execution_count": 15,
     "metadata": {},
     "output_type": "execute_result"
    },
    {
     "data": {
      "image/png": "[encoded data removed]",
      "text/plain": [
       "<Figure size 432x288 with 1 Axes>"
      ]
     },
     "metadata": {
      "needs_background": "light"
     },
     "output_type": "display_data"
    }
   ],
   "source": [
    "df[df.index<3].plot(kind='bar', x='location_city', y='listings')"
   ]
  },
  {
   "cell_type": "markdown",
   "id": "0c532991",
   "metadata": {},
   "source": [
    "## Dataset Issues\n",
    "\n",
    "- The 'dim_users.csv' as I was sent it had missing values for location and location values. They were all null.\n",
    "- Similarly within 'dim_product_type.csv' the following columns were all null:\n",
    "    - product_type_tags\n",
    "    - product_type_tags_weight_kg\n",
    "    - product_type_tags_color"
   ]
  },
  {
   "cell_type": "markdown",
   "id": "39682c26",
   "metadata": {},
   "source": [
    "#### Manipulating RECORD and REPEATED columns:\n",
    "\n",
    "If you have never used BigQuery, please check how to manipulate the RECORD and REPEATED columns:\n",
    "For the RECORD column, a.k.a:\n",
    "- STRUCT fields: you can query the ‘location.city’ column as follows:\n",
    "    - SELECT location.city FROM ‘general_marketplaces.dim_user`\n",
    "\n",
    "\n",
    "\n",
    "#### Note\n",
    "- Before creating the dim_user table I formatted the RECORD/REPEATED columns from:\n",
    "    - location.city to location_city\n",
    "\n",
    "- Similarly, I formatted the column names in dim_product_types, from:\n",
    "    - product_type.tags to product_type_tags\n",
    "    - product_type.tags_weight_kg to product_type_tags_weight_kg\n",
    "    - product_type.tags_color to product_type_tags_color\n",
    "\n",
    "- I therefore had no need to use the method suggest above"
   ]
  },
  {
   "cell_type": "code",
   "execution_count": null,
   "id": "e4840bcd",
   "metadata": {},
   "outputs": [],
   "source": []
  }
 ],
 "metadata": {
  "kernelspec": {
   "display_name": "venv",
   "language": "python",
   "name": "venv"
  },
  "language_info": {
   "codemirror_mode": {
    "name": "ipython",
    "version": 3
   },
   "file_extension": ".py",
   "mimetype": "text/x-python",
   "name": "python",
   "nbconvert_exporter": "python",
   "pygments_lexer": "ipython3",
   "version": "3.8.6"
  }
 },
 "nbformat": 4,
 "nbformat_minor": 5
}
