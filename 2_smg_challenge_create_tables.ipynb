{
 "cells": [
  {
   "cell_type": "code",
   "execution_count": 13,
   "id": "3cb726a5",
   "metadata": {},
   "outputs": [],
   "source": [
    "import os\n",
    "import pandas as pd\n",
    "import pandas_gbq as pd_gbq\n",
    "from google.cloud import bigquery\n",
    "from google.cloud.exceptions import NotFound"
   ]
  },
  {
   "cell_type": "markdown",
   "id": "239d9355",
   "metadata": {},
   "source": [
    "#### Approach\n",
    "- Define jsons containing parameters for every table which needs to be created in GCP. Parameters include project name, dataset naming, table naming, schema definition & csv location\n",
    "\n",
    "- Create list including all jsons\n",
    "\n",
    "- Loop through jsons and create dataset and table for each dataset/table"
   ]
  },
  {
   "cell_type": "code",
   "execution_count": 23,
   "id": "952bd7b7",
   "metadata": {},
   "outputs": [],
   "source": [
    "table_cln_listings = {\n",
    "      'project':'smgmaxschlafli'\n",
    "    , 'dataset_location':'EU'\n",
    "    , 'dataset_id':\"smgmaxschlafli.cln_listings\"\n",
    "    , 'table_id':f\"smgmaxschlafli.cln_listings.cln_listings\"\n",
    "    , 'table_scheme':[\n",
    "        bigquery.SchemaField(\"listing_id\", \"INTEGER\", mode=\"REQUIRED\"),\n",
    "        bigquery.SchemaField(\"price\", \"FLOAT64\", mode=\"REQUIRED\"),\n",
    "        bigquery.SchemaField(\"listing_date_key\", \"DATE\", mode=\"REQUIRED\"),\n",
    "        bigquery.SchemaField(\"platform_id\", \"INTEGER\", mode=\"REQUIRED\"),\n",
    "        bigquery.SchemaField(\"product_type_id\", \"INTEGER\", mode=\"REQUIRED\"),\n",
    "        bigquery.SchemaField(\"status_id\", \"INTEGER\", mode=\"REQUIRED\"),\n",
    "        bigquery.SchemaField(\"user_id\", \"INTEGER\", mode=\"REQUIRED\"),\n",
    "        bigquery.SchemaField(\"creation_date\", \"DATE\", mode=\"REQUIRED\"),\n",
    "        bigquery.SchemaField(\"last_update_date\", \"DATE\", mode=\"NULLABLE\"),  \n",
    "    ]\n",
    "    , 'csv_location':'GDT – BI Dev Challenge/challenge_A_task_02_dataset/challenge_A_task_02_star_schema_dataset/cln_listings.csv'\n",
    "}\n",
    "\n",
    "table_fct_listings = {\n",
    "      'project':'smgmaxschlafli'\n",
    "    , 'dataset_location':'EU'\n",
    "    , 'dataset_id':\"smgmaxschlafli.fct_listings\"\n",
    "    , 'table_id':f\"smgmaxschlafli.fct_listings.fct_listings\"\n",
    "    , 'table_scheme':[\n",
    "        bigquery.SchemaField(\"listing_id\", \"INTEGER\", mode=\"REQUIRED\"),\n",
    "        bigquery.SchemaField(\"price\", \"FLOAT64\", mode=\"REQUIRED\"),\n",
    "        bigquery.SchemaField(\"valid_from\", \"DATE\", mode=\"REQUIRED\"),\n",
    "        bigquery.SchemaField(\"valid_to\", \"DATE\", mode=\"NULLABLE\"),\n",
    "        bigquery.SchemaField(\"listing_date_key\", \"DATE\", mode=\"REQUIRED\"),  \n",
    "        bigquery.SchemaField(\"platform_id\", \"INTEGER\", mode=\"REQUIRED\"),\n",
    "        bigquery.SchemaField(\"product_type_id\", \"INTEGER\", mode=\"REQUIRED\"),\n",
    "        bigquery.SchemaField(\"status_id\", \"INTEGER\", mode=\"REQUIRED\"),\n",
    "        bigquery.SchemaField(\"user_id\", \"INTEGER\", mode=\"REQUIRED\"),\n",
    "    ]\n",
    "    , 'csv_location':'GDT – BI Dev Challenge/challenge_A_task_02_dataset/challenge_A_task_02_star_schema_dataset/fct_listings_clean.csv'\n",
    "}\n",
    "\n",
    "table_dim_platform = {\n",
    "      'project':'smgmaxschlafli'\n",
    "    , 'dataset_location':'EU'\n",
    "    , 'dataset_id':\"smgmaxschlafli.dim_platform\"\n",
    "    , 'table_id':f\"smgmaxschlafli.dim_platform.dim_platform\"\n",
    "    , 'table_scheme':[\n",
    "        bigquery.SchemaField(\"platform_id\", \"INTEGER\", mode=\"REQUIRED\"),\n",
    "        bigquery.SchemaField(\"platform\", \"STRING\", mode=\"REQUIRED\"),\n",
    "        bigquery.SchemaField(\"valid_from\", \"DATE\", mode=\"REQUIRED\"),\n",
    "        bigquery.SchemaField(\"valid_to\", \"DATE\", mode=\"NULLABLE\"),\n",
    "    ]\n",
    "    , 'csv_location':'GDT – BI Dev Challenge/challenge_A_task_02_dataset/challenge_A_task_02_star_schema_dataset/dim_platform.csv'\n",
    "}\n",
    "\n",
    "\n",
    "table_dim_dates = {\n",
    "      'project':'smgmaxschlafli'\n",
    "    , 'dataset_location':'EU'\n",
    "    , 'dataset_id':\"smgmaxschlafli.dim_date\"\n",
    "    , 'table_id':f\"smgmaxschlafli.dim_date.dim_date\"\n",
    "    , 'table_scheme':[\n",
    "        bigquery.SchemaField(\"date_key\", \"DATE\", mode=\"REQUIRED\"),\n",
    "        bigquery.SchemaField(\"day\", \"STRING\", mode=\"REQUIRED\"),\n",
    "        bigquery.SchemaField(\"week\", \"STRING\", mode=\"REQUIRED\"),\n",
    "        bigquery.SchemaField(\"month\", \"STRING\", mode=\"REQUIRED\"),\n",
    "        bigquery.SchemaField(\"quarter\", \"STRING\", mode=\"REQUIRED\"),\n",
    "        bigquery.SchemaField(\"year\", \"INTEGER\", mode=\"REQUIRED\"),\n",
    "        bigquery.SchemaField(\"weekday\", \"STRING\", mode=\"REQUIRED\"),\n",
    "        bigquery.SchemaField(\"month_text\", \"STRING\", mode=\"REQUIRED\"), ]\n",
    "    , 'csv_location':'GDT – BI Dev Challenge/challenge_A_task_02_dataset/challenge_A_task_02_star_schema_dataset/dim_date.csv'\n",
    "}\n",
    "\n",
    "\n",
    "table_product_type = {\n",
    "      'project':'smgmaxschlafli'\n",
    "    , 'dataset_location':'EU'\n",
    "    , 'dataset_id':\"smgmaxschlafli.dim_product_type\"\n",
    "    , 'table_id':f\"smgmaxschlafli.dim_product_type.dim_product_type\"\n",
    "    , 'table_scheme':[\n",
    "        bigquery.SchemaField(\"product_type_id\", \"INTEGER\", mode=\"REQUIRED\"),\n",
    "        bigquery.SchemaField(\"product_type\", \"STRING\", mode=\"REQUIRED\"),\n",
    "        bigquery.SchemaField(\"product_type_tags\", \"STRING\", mode=\"NULLABLE\"),\n",
    "        bigquery.SchemaField(\"product_type_tags_weight_kg\", \"STRING\", mode=\"NULLABLE\"),\n",
    "        bigquery.SchemaField(\"product_type_tags_color\", \"STRING\", mode=\"NULLABLE\"),\n",
    "        bigquery.SchemaField(\"valid_from\", \"DATE\", mode=\"REQUIRED\"),\n",
    "        bigquery.SchemaField(\"valid_to\", \"DATE\", mode=\"NULLABLE\"),\n",
    "    ]\n",
    "    , 'csv_location':'GDT – BI Dev Challenge/challenge_A_task_02_dataset/challenge_A_task_02_star_schema_dataset/dim_product_type.csv'\n",
    "}\n",
    "\n",
    "\n",
    "table_dim_status = {\n",
    "      'project':'smgmaxschlafli'\n",
    "    , 'dataset_location':'EU'\n",
    "    , 'dataset_id':\"smgmaxschlafli.dim_status\"\n",
    "    , 'table_id':f\"smgmaxschlafli.dim_status.dim_status\"\n",
    "    , 'table_scheme':[\n",
    "        bigquery.SchemaField(\"Active\", \"INTEGER\", mode=\"REQUIRED\"),\n",
    "        bigquery.SchemaField(\"status\", \"STRING\", mode=\"REQUIRED\"),\n",
    "        bigquery.SchemaField(\"valid_from\", \"DATE\", mode=\"REQUIRED\"),\n",
    "        bigquery.SchemaField(\"valid_to\", \"DATE\", mode=\"NULLABLE\"),\n",
    "    ]\n",
    "    , 'csv_location':'GDT – BI Dev Challenge/challenge_A_task_02_dataset/challenge_A_task_02_star_schema_dataset/dim_status.csv'\n",
    "}\n",
    "\n",
    "\n",
    "table_dim_user = {\n",
    "      'project':'smgmaxschlafli'\n",
    "    , 'dataset_location':'EU'\n",
    "    , 'dataset_id':\"smgmaxschlafli.dim_user\"\n",
    "    , 'table_id':f\"smgmaxschlafli.dim_user.dim_user\"\n",
    "    , 'table_scheme':[\n",
    "        bigquery.SchemaField(\"user_id\", \"INTEGER\", mode=\"REQUIRED\"),\n",
    "        bigquery.SchemaField(\"location\", \"STRING\", mode=\"NULLABLE\"),\n",
    "        bigquery.SchemaField(\"location_city\", \"STRING\", mode=\"NULLABLE\"),\n",
    "        bigquery.SchemaField(\"location_country\", \"STRING\", mode=\"NULLABLE\"),\n",
    "        bigquery.SchemaField(\"valid_from\", \"DATE\", mode=\"REQUIRED\"),\n",
    "        bigquery.SchemaField(\"valid_to\", \"DATE\", mode=\"NULLABLE\"),\n",
    "    ]\n",
    "    , 'csv_location':'GDT – BI Dev Challenge/challenge_A_task_02_dataset/challenge_A_task_02_star_schema_dataset/dim_user.csv'\n",
    "}\n",
    "\n",
    "\n",
    "tables = [\n",
    "    table_cln_listings\n",
    "  , table_fct_listings\n",
    "  , table_dim_platform\n",
    "  , table_dim_dates\n",
    "  , table_product_type\n",
    "  , table_dim_status\n",
    "  , table_dim_user\n",
    "]"
   ]
  },
  {
   "cell_type": "code",
   "execution_count": 25,
   "id": "c093c338",
   "metadata": {},
   "outputs": [
    {
     "name": "stdout",
     "output_type": "stream",
     "text": [
      "409 POST https://bigquery.googleapis.com/bigquery/v2/projects/smgmaxschlafli/datasets?prettyPrint=false: Already Exists: Dataset smgmaxschlafli:cln_listings\n",
      "Created table smgmaxschlafli.cln_listings.cln_listings\n"
     ]
    },
    {
     "name": "stderr",
     "output_type": "stream",
     "text": [
      "1it [00:04,  4.54s/it]\n"
     ]
    },
    {
     "name": "stdout",
     "output_type": "stream",
     "text": [
      "Populated table smgmaxschlafli.cln_listings.smgmaxschlafli.cln_listings.cln_listings\n",
      "Created dataset smgmaxschlafli.fct_listings\n",
      "Created table smgmaxschlafli.fct_listings.fct_listings\n"
     ]
    },
    {
     "name": "stderr",
     "output_type": "stream",
     "text": [
      "1it [00:03,  3.22s/it]\n"
     ]
    },
    {
     "name": "stdout",
     "output_type": "stream",
     "text": [
      "Populated table smgmaxschlafli.fct_listings.smgmaxschlafli.fct_listings.fct_listings\n",
      "Created dataset smgmaxschlafli.dim_platform\n",
      "Created table smgmaxschlafli.dim_platform.dim_platform\n"
     ]
    },
    {
     "name": "stderr",
     "output_type": "stream",
     "text": [
      "1it [00:03,  3.43s/it]\n"
     ]
    },
    {
     "name": "stdout",
     "output_type": "stream",
     "text": [
      "Populated table smgmaxschlafli.dim_platform.smgmaxschlafli.dim_platform.dim_platform\n",
      "Created dataset smgmaxschlafli.dim_date\n",
      "Created table smgmaxschlafli.dim_date.dim_date\n"
     ]
    },
    {
     "name": "stderr",
     "output_type": "stream",
     "text": [
      "1it [00:02,  2.13s/it]\n"
     ]
    },
    {
     "name": "stdout",
     "output_type": "stream",
     "text": [
      "Populated table smgmaxschlafli.dim_date.smgmaxschlafli.dim_date.dim_date\n",
      "Created dataset smgmaxschlafli.dim_product_type\n",
      "Created table smgmaxschlafli.dim_product_type.dim_product_type\n"
     ]
    },
    {
     "name": "stderr",
     "output_type": "stream",
     "text": [
      "1it [00:02,  2.60s/it]\n"
     ]
    },
    {
     "name": "stdout",
     "output_type": "stream",
     "text": [
      "Populated table smgmaxschlafli.dim_product_type.smgmaxschlafli.dim_product_type.dim_product_type\n",
      "Created dataset smgmaxschlafli.dim_status\n",
      "Created table smgmaxschlafli.dim_status.dim_status\n"
     ]
    },
    {
     "name": "stderr",
     "output_type": "stream",
     "text": [
      "1it [00:00,  1.79it/s]\n"
     ]
    },
    {
     "name": "stdout",
     "output_type": "stream",
     "text": [
      "Reason: Provided Schema does not match Table smgmaxschlafli:dim_status.dim_status. Field Active is missing in new schema\n",
      "Created dataset smgmaxschlafli.dim_user\n",
      "Created table smgmaxschlafli.dim_user.dim_user\n"
     ]
    },
    {
     "name": "stderr",
     "output_type": "stream",
     "text": [
      "1it [00:02,  2.78s/it]"
     ]
    },
    {
     "name": "stdout",
     "output_type": "stream",
     "text": [
      "Populated table smgmaxschlafli.dim_user.smgmaxschlafli.dim_user.dim_user\n"
     ]
    },
    {
     "name": "stderr",
     "output_type": "stream",
     "text": [
      "\n"
     ]
    }
   ],
   "source": [
    "for table_params in tables:    \n",
    "    project = table_params['project']\n",
    "    dataset_id = table_params['dataset_id']\n",
    "    dataset = bigquery.Dataset(dataset_id)\n",
    "    dataset.location = table_params['dataset_location']\n",
    "    table_schema = table_params['table_scheme']\n",
    "    table_id = table_params['table_id']\n",
    "    csv_location = table_params['csv_location']\n",
    "    \n",
    "    try:\n",
    "        dataset = client.create_dataset(dataset, timeout=30)  # Make an API request.\n",
    "        print(f\"Created dataset {dataset_id}\")\n",
    "    except Exception as e:\n",
    "        print(e)\n",
    "\n",
    "    # Create Table\n",
    "    table = bigquery.Table(table_id, schema=table_schema)\n",
    "    try:\n",
    "        table = client.create_table(table)  \n",
    "        print(f\"Created table {table_id}\")\n",
    "    except Exception as e:\n",
    "        print(e)\n",
    "\n",
    "    # Populate Table\n",
    "    df = pd.read_csv(csv_location)\n",
    "    try:\n",
    "        pd_gbq.to_gbq(df, table_id, project_id=project, api_method='load_csv')\n",
    "        print(f\"Populated table {dataset_id}.{table_id}\")\n",
    "    except Exception as e:\n",
    "        print(e)"
   ]
  },
  {
   "cell_type": "code",
   "execution_count": 11,
   "id": "0b8a3ade",
   "metadata": {},
   "outputs": [],
   "source": [
    "\n"
   ]
  }
 ],
 "metadata": {
  "kernelspec": {
   "display_name": "venv",
   "language": "python",
   "name": "venv"
  },
  "language_info": {
   "codemirror_mode": {
    "name": "ipython",
    "version": 3
   },
   "file_extension": ".py",
   "mimetype": "text/x-python",
   "name": "python",
   "nbconvert_exporter": "python",
   "pygments_lexer": "ipython3",
   "version": "3.8.6"
  }
 },
 "nbformat": 4,
 "nbformat_minor": 5
}
